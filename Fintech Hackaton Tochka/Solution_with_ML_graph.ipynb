{
 "cells": [
  {
   "cell_type": "markdown",
   "metadata": {
    "colab_type": "text",
    "id": "hTcjIJgQ9fOE"
   },
   "source": [
    "# Libraries import"
   ]
  },
  {
   "cell_type": "code",
   "execution_count": 0,
   "metadata": {
    "colab": {},
    "colab_type": "code",
    "id": "_CdpP6NjEp8j"
   },
   "outputs": [],
   "source": [
    "#!pip install catboost"
   ]
  },
  {
   "cell_type": "code",
   "execution_count": 0,
   "metadata": {
    "colab": {},
    "colab_type": "code",
    "id": "kCxw82GlFota"
   },
   "outputs": [],
   "source": [
    "import networkx as nx"
   ]
  },
  {
   "cell_type": "code",
   "execution_count": 9,
   "metadata": {
    "colab": {
     "base_uri": "https://localhost:8080/",
     "height": 154
    },
    "colab_type": "code",
    "id": "sXHTCwxx68qD",
    "outputId": "86d5f26d-0fb4-47f0-80a0-5e0715ff7604"
   },
   "outputs": [],
   "source": [
    "from tqdm.notebook import tqdm\n",
    "from sklearn.preprocessing import LabelEncoder\n",
    "from catboost import CatBoostClassifier\n",
    "from sklearn.neighbors import NearestNeighbors\n",
    "import pandas as pd\n",
    "import matplotlib.pyplot as plt\n",
    "import seaborn as sns\n",
    "#import lightgbm as lgb\n",
    "from sklearn import metrics\n",
    "from sklearn.model_selection import train_test_split\n",
    "#from google.colab import drive\n",
    "\n",
    "#drive.mount('/content/drive')"
   ]
  },
  {
   "cell_type": "code",
   "execution_count": 0,
   "metadata": {
    "colab": {},
    "colab_type": "code",
    "id": "HoSBDW4L8-N4"
   },
   "outputs": [],
   "source": [
    "#pip install stellargraph[demos]"
   ]
  },
  {
   "cell_type": "code",
   "execution_count": 0,
   "metadata": {
    "colab": {},
    "colab_type": "code",
    "id": "6hE4Tp1588CM"
   },
   "outputs": [],
   "source": [
    "from stellargraph.data import EdgeSplitter\n",
    "from stellargraph.mapper import FullBatchLinkGenerator\n",
    "from stellargraph.layer import GCN, LinkEmbedding\n",
    "from tensorflow import keras\n",
    "from sklearn import preprocessing, feature_extraction, model_selection\n",
    "from stellargraph import globalvar\n",
    "from stellargraph import datasets\n",
    "from IPython.display import display, HTML\n",
    "#%matplotlib inline"
   ]
  },
  {
   "cell_type": "markdown",
   "metadata": {
    "colab_type": "text",
    "id": "3PWTcD2N9asz"
   },
   "source": [
    "# Data import"
   ]
  },
  {
   "cell_type": "code",
   "execution_count": 2,
   "metadata": {
    "colab": {},
    "colab_type": "code",
    "id": "LQjajc0Q83h1"
   },
   "outputs": [],
   "source": [
    "edges = pd.read_csv('/Private/DataScience/Python/Fintech Hackaton Tochka/edges.csv')\n",
    "ids = pd.read_csv('/Private/DataScience/Python/Fintech Hackaton Tochka/ids.csv')\n",
    "vertices = pd.read_csv('/Private/DataScience/Python/Fintech Hackaton Tochka/vertices_normalized with neighbours reworked.csv')"
   ]
  },
  {
   "cell_type": "code",
   "execution_count": 3,
   "metadata": {
    "colab": {},
    "colab_type": "code",
    "id": "ALa49Jz_85Ha"
   },
   "outputs": [],
   "source": [
    "vertices['main_okved'] = vertices['main_okved'].astype(str)\n",
    "vertices['company_type'] = vertices['company_type'].astype(str)"
   ]
  },
  {
   "cell_type": "code",
   "execution_count": 4,
   "metadata": {
    "colab": {},
    "colab_type": "code",
    "id": "TQboNlIh86Vf"
   },
   "outputs": [],
   "source": [
    "le = LabelEncoder()\n",
    "vertices['main_okved'] = le.fit_transform(vertices['main_okved'])\n",
    "vertices['company_type'] = le.fit_transform(vertices['company_type'])"
   ]
  },
  {
   "cell_type": "markdown",
   "metadata": {
    "colab_type": "text",
    "id": "ppcW4LrS9pRE"
   },
   "source": [
    "# NetworkX graph"
   ]
  },
  {
   "cell_type": "code",
   "execution_count": 0,
   "metadata": {
    "colab": {},
    "colab_type": "code",
    "id": "4Y9pUBae99Ds"
   },
   "outputs": [],
   "source": [
    "edges.drop([\"value\",\"n_transactions\"], axis=1, inplace=True)\n",
    "edges.columns = [\"source\",\"target\"]"
   ]
  },
  {
   "cell_type": "code",
   "execution_count": 0,
   "metadata": {
    "colab": {},
    "colab_type": "code",
    "id": "n3Y2vNpP9-6E"
   },
   "outputs": [],
   "source": [
    "vertices.set_index('id', inplace=True)"
   ]
  },
  {
   "cell_type": "code",
   "execution_count": 0,
   "metadata": {
    "colab": {},
    "colab_type": "code",
    "id": "QInEc38q9opx"
   },
   "outputs": [],
   "source": [
    "g = nx.from_pandas_edgelist(edges) "
   ]
  },
  {
   "cell_type": "code",
   "execution_count": 0,
   "metadata": {
    "colab": {},
    "colab_type": "code",
    "id": "37FTzAtJ-uxU"
   },
   "outputs": [],
   "source": [
    "g.add_nodes_from(vertices.index)"
   ]
  },
  {
   "cell_type": "code",
   "execution_count": 0,
   "metadata": {
    "colab": {},
    "colab_type": "code",
    "id": "uVmVCEIo9ymF"
   },
   "outputs": [],
   "source": [
    "degree_dict = dict(g.degree(g.nodes()))\n",
    "nx.set_node_attributes(g, degree_dict, 'degree')\n",
    "#nx.set_node_attributes(g, vertices.to_dict('index'))"
   ]
  },
  {
   "cell_type": "code",
   "execution_count": 13,
   "metadata": {
    "colab": {
     "base_uri": "https://localhost:8080/",
     "height": 34
    },
    "colab_type": "code",
    "id": "kLNLXC1F-MCY",
    "outputId": "c8a612d4-7d4a-49d8-9c24-03f1784645a1"
   },
   "outputs": [
    {
     "data": {
      "text/plain": [
       "{'degree': 2}"
      ]
     },
     "execution_count": 13,
     "metadata": {
      "tags": []
     },
     "output_type": "execute_result"
    }
   ],
   "source": [
    "g.nodes[1]"
   ]
  },
  {
   "cell_type": "markdown",
   "metadata": {
    "colab_type": "text",
    "id": "Lx3m4BJc9tel"
   },
   "source": [
    "# Stellargraph graph"
   ]
  },
  {
   "cell_type": "code",
   "execution_count": 0,
   "metadata": {
    "colab": {},
    "colab_type": "code",
    "id": "a4YQX07u-VHN"
   },
   "outputs": [],
   "source": [
    "from stellargraph import StellarGraph"
   ]
  },
  {
   "cell_type": "code",
   "execution_count": 0,
   "metadata": {
    "colab": {},
    "colab_type": "code",
    "id": "cjADcwhO-ajR"
   },
   "outputs": [],
   "source": [
    "#G = StellarGraph(vertices, edges)"
   ]
  },
  {
   "cell_type": "code",
   "execution_count": 0,
   "metadata": {
    "colab": {},
    "colab_type": "code",
    "id": "iH4XaTu9-fFN"
   },
   "outputs": [],
   "source": [
    "G = StellarGraph.from_networkx(g, node_features=vertices,node_type_default='company', edge_type_default='transaction')"
   ]
  },
  {
   "cell_type": "code",
   "execution_count": 0,
   "metadata": {
    "colab": {
     "base_uri": "https://localhost:8080/",
     "height": 202
    },
    "colab_type": "code",
    "id": "O4Nj-L5--9xZ",
    "outputId": "5f00b51f-afd8-462e-fa31-c55620755d83"
   },
   "outputs": [
    {
     "name": "stdout",
     "output_type": "stream",
     "text": [
      "StellarGraph: Undirected multigraph\n",
      " Nodes: 1534749, Edges: 4685644\n",
      "\n",
      " Node types:\n",
      "  company: [1534749]\n",
      "    Features: float32 vector, length 3\n",
      "    Edge types: company-transaction->company\n",
      "\n",
      " Edge types:\n",
      "    company-transaction->company: [4685644]\n",
      "        Weights: all 1 (default)\n"
     ]
    }
   ],
   "source": [
    "print(G.info())"
   ]
  },
  {
   "cell_type": "markdown",
   "metadata": {
    "colab_type": "text",
    "id": "OfKBjaOX_mc1"
   },
   "source": [
    "Must be **equal**"
   ]
  },
  {
   "cell_type": "code",
   "execution_count": 0,
   "metadata": {
    "colab": {
     "base_uri": "https://localhost:8080/",
     "height": 34
    },
    "colab_type": "code",
    "id": "wbKXDBex_jfU",
    "outputId": "0d2724d3-dd82-4c0e-b550-1fb43ae4775c"
   },
   "outputs": [
    {
     "data": {
      "text/plain": [
       "1534749"
      ]
     },
     "execution_count": 25,
     "metadata": {
      "tags": []
     },
     "output_type": "execute_result"
    }
   ],
   "source": [
    "len(vertices)"
   ]
  },
  {
   "cell_type": "code",
   "execution_count": 0,
   "metadata": {
    "colab": {},
    "colab_type": "code",
    "id": "NWSdWFyWLFZR"
   },
   "outputs": [],
   "source": [
    "g.clear()"
   ]
  },
  {
   "cell_type": "markdown",
   "metadata": {
    "colab_type": "text",
    "id": "_Zym-u9A_vLa"
   },
   "source": [
    "Splitting for model"
   ]
  },
  {
   "cell_type": "code",
   "execution_count": 0,
   "metadata": {
    "colab": {
     "base_uri": "https://localhost:8080/",
     "height": 1000
    },
    "colab_type": "code",
    "id": "yxbhC8bkB4IO",
    "outputId": "218bd7f3-9dcc-40db-a9c2-83db9f6c900e"
   },
   "outputs": [
    {
     "name": "stdout",
     "output_type": "stream",
     "text": [
      "Removed 1000 edges\n",
      "Removed 2000 edges\n",
      "Removed 3000 edges\n",
      "Removed 4000 edges\n",
      "Removed 5000 edges\n",
      "Removed 6000 edges\n",
      "Removed 7000 edges\n",
      "Removed 8000 edges\n",
      "Removed 9000 edges\n",
      "Removed 10000 edges\n",
      "Removed 11000 edges\n",
      "Removed 12000 edges\n",
      "Removed 13000 edges\n",
      "Removed 14000 edges\n",
      "Removed 15000 edges\n",
      "Removed 16000 edges\n",
      "Removed 17000 edges\n",
      "Removed 18000 edges\n",
      "Removed 19000 edges\n",
      "Removed 20000 edges\n",
      "Removed 21000 edges\n",
      "Removed 22000 edges\n",
      "Removed 23000 edges\n",
      "Removed 24000 edges\n",
      "Removed 25000 edges\n",
      "Removed 26000 edges\n",
      "Removed 27000 edges\n",
      "Removed 28000 edges\n",
      "Removed 29000 edges\n",
      "Removed 30000 edges\n",
      "Removed 31000 edges\n",
      "Removed 32000 edges\n",
      "Removed 33000 edges\n",
      "Removed 34000 edges\n",
      "Removed 35000 edges\n",
      "Removed 36000 edges\n",
      "Removed 37000 edges\n",
      "Removed 38000 edges\n",
      "Removed 39000 edges\n",
      "Removed 40000 edges\n",
      "Removed 41000 edges\n",
      "Removed 42000 edges\n",
      "Removed 43000 edges\n",
      "Removed 44000 edges\n",
      "Removed 45000 edges\n",
      "Removed 46000 edges\n",
      "Sampled 1000 negative examples\n",
      "Sampled 2000 negative examples\n",
      "Sampled 3000 negative examples\n",
      "Sampled 4000 negative examples\n",
      "Sampled 5000 negative examples\n",
      "Sampled 6000 negative examples\n",
      "Sampled 7000 negative examples\n",
      "Sampled 8000 negative examples\n",
      "Sampled 9000 negative examples\n",
      "Sampled 10000 negative examples\n",
      "Sampled 11000 negative examples\n",
      "Sampled 12000 negative examples\n",
      "Sampled 13000 negative examples\n",
      "Sampled 14000 negative examples\n",
      "Sampled 15000 negative examples\n",
      "Sampled 16000 negative examples\n",
      "Sampled 17000 negative examples\n",
      "Sampled 18000 negative examples\n",
      "Sampled 19000 negative examples\n",
      "Sampled 20000 negative examples\n",
      "Sampled 21000 negative examples\n",
      "Sampled 22000 negative examples\n",
      "Sampled 23000 negative examples\n",
      "Sampled 24000 negative examples\n",
      "Sampled 25000 negative examples\n",
      "Sampled 26000 negative examples\n",
      "Sampled 27000 negative examples\n",
      "Sampled 28000 negative examples\n",
      "Sampled 29000 negative examples\n",
      "Sampled 30000 negative examples\n",
      "Sampled 31000 negative examples\n",
      "Sampled 32000 negative examples\n",
      "Sampled 33000 negative examples\n",
      "Sampled 34000 negative examples\n",
      "Sampled 35000 negative examples\n",
      "Sampled 36000 negative examples\n",
      "Sampled 37000 negative examples\n",
      "Sampled 38000 negative examples\n",
      "Sampled 39000 negative examples\n",
      "Sampled 40000 negative examples\n",
      "Sampled 41000 negative examples\n",
      "Sampled 42000 negative examples\n",
      "Sampled 43000 negative examples\n",
      "Sampled 44000 negative examples\n",
      "Sampled 45000 negative examples\n",
      "Sampled 46000 negative examples\n",
      "** Sampled 46856 positive and 46856 negative edges. **\n",
      "CPU times: user 5min 50s, sys: 3.86 s, total: 5min 54s\n",
      "Wall time: 5min 54s\n"
     ]
    }
   ],
   "source": [
    "%time G_train, edge_ids_train, edge_labels_train = EdgeSplitter(G).train_test_split(p=0.01, method=\"global\", keep_connected=True)"
   ]
  },
  {
   "cell_type": "code",
   "execution_count": 0,
   "metadata": {
    "colab": {
     "base_uri": "https://localhost:8080/",
     "height": 34
    },
    "colab_type": "code",
    "id": "n4-twEyhCXR6",
    "outputId": "b5394431-47bb-436a-b9df-3093dafc98e1"
   },
   "outputs": [
    {
     "name": "stdout",
     "output_type": "stream",
     "text": [
      "Using GCN (local pooling) filters...\n"
     ]
    }
   ],
   "source": [
    "train_gen = FullBatchLinkGenerator(G, method=\"gcn\")\n",
    "train_flow = train_gen.flow(edge_ids_train, edge_labels_train)"
   ]
  },
  {
   "cell_type": "code",
   "execution_count": 0,
   "metadata": {
    "colab": {},
    "colab_type": "code",
    "id": "2ABQWEs0EE-Q"
   },
   "outputs": [],
   "source": [
    "gcn = GCN(layer_sizes=[16, 16], activations=[\"relu\", \"relu\"], generator=train_gen, dropout=0.3)"
   ]
  },
  {
   "cell_type": "code",
   "execution_count": 0,
   "metadata": {
    "colab": {},
    "colab_type": "code",
    "id": "5p5CeR-zEIUo"
   },
   "outputs": [],
   "source": [
    "x_inp, x_out = gcn.in_out_tensors()\n",
    "prediction = LinkEmbedding(activation=\"relu\", method=\"ip\")(x_out)\n",
    "prediction = keras.layers.Reshape((-1,))(prediction)\n",
    "model = keras.Model(inputs=x_inp, outputs=prediction)\n",
    "model.compile(optimizer=keras.optimizers.Adam(lr=0.4),loss=keras.losses.binary_crossentropy,metrics=keras.metrics.binary_accuracy)"
   ]
  },
  {
   "cell_type": "code",
   "execution_count": 0,
   "metadata": {
    "colab": {
     "base_uri": "https://localhost:8080/",
     "height": 101
    },
    "colab_type": "code",
    "id": "LhED14WVEJ7F",
    "outputId": "c92135f1-fd11-4aec-eb3c-6ec5e4846330"
   },
   "outputs": [
    {
     "name": "stdout",
     "output_type": "stream",
     "text": [
      "1/1 [==============================] - 0s 2ms/step - loss: 7.6246 - binary_accuracy: 0.5000\n",
      "\n",
      "Train Set Metrics of the initial (untrained) model:\n",
      "\tloss: 7.6246\n",
      "\tbinary_accuracy: 0.5000\n"
     ]
    }
   ],
   "source": [
    "init_train_metrics = model.evaluate(train_flow)\n",
    "#init_test_metrics = model.evaluate(test_flow)\n",
    "\n",
    "print(\"\\nTrain Set Metrics of the initial (untrained) model:\")\n",
    "for name, val in zip(model.metrics_names, init_train_metrics):\n",
    "    print(\"\\t{}: {:0.4f}\".format(name, val))\n",
    "\n",
    "#print(\"\\nTest Set Metrics of the initial (untrained) model:\")\n",
    "#for name, val in zip(model.metrics_names, init_test_metrics):\n",
    "#    print(\"\\t{}: {:0.4f}\".format(name, val))"
   ]
  },
  {
   "cell_type": "code",
   "execution_count": 0,
   "metadata": {
    "colab": {
     "base_uri": "https://localhost:8080/",
     "height": 421
    },
    "colab_type": "code",
    "id": "ccAhNcLnEMd8",
    "outputId": "603ef097-5085-4b7c-9efc-ec5d6b357053"
   },
   "outputs": [
    {
     "name": "stdout",
     "output_type": "stream",
     "text": [
      "Epoch 1/50\n",
      "1/1 - 0s - loss: 7.7124 - binary_accuracy: 0.5000\n",
      "Epoch 2/50\n",
      "1/1 - 0s - loss: 7.7124 - binary_accuracy: 0.5000\n",
      "Epoch 3/50\n",
      "1/1 - 0s - loss: 7.7124 - binary_accuracy: 0.5000\n",
      "Epoch 4/50\n"
     ]
    },
    {
     "ename": "KeyboardInterrupt",
     "evalue": "ignored",
     "output_type": "error",
     "traceback": [
      "\u001b[0;31m---------------------------------------------------------------------------\u001b[0m",
      "\u001b[0;31mKeyboardInterrupt\u001b[0m                         Traceback (most recent call last)",
      "\u001b[0;32m<ipython-input-68-1fce5b8f0155>\u001b[0m in \u001b[0;36m<module>\u001b[0;34m()\u001b[0m\n\u001b[0;32m----> 1\u001b[0;31m \u001b[0mhistory\u001b[0m \u001b[0;34m=\u001b[0m \u001b[0mmodel\u001b[0m\u001b[0;34m.\u001b[0m\u001b[0mfit\u001b[0m\u001b[0;34m(\u001b[0m\u001b[0mtrain_flow\u001b[0m\u001b[0;34m,\u001b[0m \u001b[0mepochs\u001b[0m\u001b[0;34m=\u001b[0m\u001b[0;36m50\u001b[0m\u001b[0;34m,\u001b[0m\u001b[0mverbose\u001b[0m\u001b[0;34m=\u001b[0m\u001b[0;36m2\u001b[0m\u001b[0;34m,\u001b[0m \u001b[0mshuffle\u001b[0m\u001b[0;34m=\u001b[0m\u001b[0;32mFalse\u001b[0m\u001b[0;34m)\u001b[0m\u001b[0;34m\u001b[0m\u001b[0;34m\u001b[0m\u001b[0m\n\u001b[0m",
      "\u001b[0;32m/usr/local/lib/python3.6/dist-packages/tensorflow/python/keras/engine/training.py\u001b[0m in \u001b[0;36m_method_wrapper\u001b[0;34m(self, *args, **kwargs)\u001b[0m\n\u001b[1;32m     64\u001b[0m   \u001b[0;32mdef\u001b[0m \u001b[0m_method_wrapper\u001b[0m\u001b[0;34m(\u001b[0m\u001b[0mself\u001b[0m\u001b[0;34m,\u001b[0m \u001b[0;34m*\u001b[0m\u001b[0margs\u001b[0m\u001b[0;34m,\u001b[0m \u001b[0;34m**\u001b[0m\u001b[0mkwargs\u001b[0m\u001b[0;34m)\u001b[0m\u001b[0;34m:\u001b[0m\u001b[0;34m\u001b[0m\u001b[0;34m\u001b[0m\u001b[0m\n\u001b[1;32m     65\u001b[0m     \u001b[0;32mif\u001b[0m \u001b[0;32mnot\u001b[0m \u001b[0mself\u001b[0m\u001b[0;34m.\u001b[0m\u001b[0m_in_multi_worker_mode\u001b[0m\u001b[0;34m(\u001b[0m\u001b[0;34m)\u001b[0m\u001b[0;34m:\u001b[0m  \u001b[0;31m# pylint: disable=protected-access\u001b[0m\u001b[0;34m\u001b[0m\u001b[0;34m\u001b[0m\u001b[0m\n\u001b[0;32m---> 66\u001b[0;31m       \u001b[0;32mreturn\u001b[0m \u001b[0mmethod\u001b[0m\u001b[0;34m(\u001b[0m\u001b[0mself\u001b[0m\u001b[0;34m,\u001b[0m \u001b[0;34m*\u001b[0m\u001b[0margs\u001b[0m\u001b[0;34m,\u001b[0m \u001b[0;34m**\u001b[0m\u001b[0mkwargs\u001b[0m\u001b[0;34m)\u001b[0m\u001b[0;34m\u001b[0m\u001b[0;34m\u001b[0m\u001b[0m\n\u001b[0m\u001b[1;32m     67\u001b[0m \u001b[0;34m\u001b[0m\u001b[0m\n\u001b[1;32m     68\u001b[0m     \u001b[0;31m# Running inside `run_distribute_coordinator` already.\u001b[0m\u001b[0;34m\u001b[0m\u001b[0;34m\u001b[0m\u001b[0;34m\u001b[0m\u001b[0m\n",
      "\u001b[0;32m/usr/local/lib/python3.6/dist-packages/tensorflow/python/keras/engine/training.py\u001b[0m in \u001b[0;36mfit\u001b[0;34m(self, x, y, batch_size, epochs, verbose, callbacks, validation_split, validation_data, shuffle, class_weight, sample_weight, initial_epoch, steps_per_epoch, validation_steps, validation_batch_size, validation_freq, max_queue_size, workers, use_multiprocessing)\u001b[0m\n\u001b[1;32m    846\u001b[0m                 batch_size=batch_size):\n\u001b[1;32m    847\u001b[0m               \u001b[0mcallbacks\u001b[0m\u001b[0;34m.\u001b[0m\u001b[0mon_train_batch_begin\u001b[0m\u001b[0;34m(\u001b[0m\u001b[0mstep\u001b[0m\u001b[0;34m)\u001b[0m\u001b[0;34m\u001b[0m\u001b[0;34m\u001b[0m\u001b[0m\n\u001b[0;32m--> 848\u001b[0;31m               \u001b[0mtmp_logs\u001b[0m \u001b[0;34m=\u001b[0m \u001b[0mtrain_function\u001b[0m\u001b[0;34m(\u001b[0m\u001b[0miterator\u001b[0m\u001b[0;34m)\u001b[0m\u001b[0;34m\u001b[0m\u001b[0;34m\u001b[0m\u001b[0m\n\u001b[0m\u001b[1;32m    849\u001b[0m               \u001b[0;31m# Catch OutOfRangeError for Datasets of unknown size.\u001b[0m\u001b[0;34m\u001b[0m\u001b[0;34m\u001b[0m\u001b[0;34m\u001b[0m\u001b[0m\n\u001b[1;32m    850\u001b[0m               \u001b[0;31m# This blocks until the batch has finished executing.\u001b[0m\u001b[0;34m\u001b[0m\u001b[0;34m\u001b[0m\u001b[0;34m\u001b[0m\u001b[0m\n",
      "\u001b[0;32m/usr/local/lib/python3.6/dist-packages/tensorflow/python/eager/def_function.py\u001b[0m in \u001b[0;36m__call__\u001b[0;34m(self, *args, **kwds)\u001b[0m\n\u001b[1;32m    578\u001b[0m         \u001b[0mxla_context\u001b[0m\u001b[0;34m.\u001b[0m\u001b[0mExit\u001b[0m\u001b[0;34m(\u001b[0m\u001b[0;34m)\u001b[0m\u001b[0;34m\u001b[0m\u001b[0;34m\u001b[0m\u001b[0m\n\u001b[1;32m    579\u001b[0m     \u001b[0;32melse\u001b[0m\u001b[0;34m:\u001b[0m\u001b[0;34m\u001b[0m\u001b[0;34m\u001b[0m\u001b[0m\n\u001b[0;32m--> 580\u001b[0;31m       \u001b[0mresult\u001b[0m \u001b[0;34m=\u001b[0m \u001b[0mself\u001b[0m\u001b[0;34m.\u001b[0m\u001b[0m_call\u001b[0m\u001b[0;34m(\u001b[0m\u001b[0;34m*\u001b[0m\u001b[0margs\u001b[0m\u001b[0;34m,\u001b[0m \u001b[0;34m**\u001b[0m\u001b[0mkwds\u001b[0m\u001b[0;34m)\u001b[0m\u001b[0;34m\u001b[0m\u001b[0;34m\u001b[0m\u001b[0m\n\u001b[0m\u001b[1;32m    581\u001b[0m \u001b[0;34m\u001b[0m\u001b[0m\n\u001b[1;32m    582\u001b[0m     \u001b[0;32mif\u001b[0m \u001b[0mtracing_count\u001b[0m \u001b[0;34m==\u001b[0m \u001b[0mself\u001b[0m\u001b[0;34m.\u001b[0m\u001b[0m_get_tracing_count\u001b[0m\u001b[0;34m(\u001b[0m\u001b[0;34m)\u001b[0m\u001b[0;34m:\u001b[0m\u001b[0;34m\u001b[0m\u001b[0;34m\u001b[0m\u001b[0m\n",
      "\u001b[0;32m/usr/local/lib/python3.6/dist-packages/tensorflow/python/eager/def_function.py\u001b[0m in \u001b[0;36m_call\u001b[0;34m(self, *args, **kwds)\u001b[0m\n\u001b[1;32m    609\u001b[0m       \u001b[0;31m# In this case we have created variables on the first call, so we run the\u001b[0m\u001b[0;34m\u001b[0m\u001b[0;34m\u001b[0m\u001b[0;34m\u001b[0m\u001b[0m\n\u001b[1;32m    610\u001b[0m       \u001b[0;31m# defunned version which is guaranteed to never create variables.\u001b[0m\u001b[0;34m\u001b[0m\u001b[0;34m\u001b[0m\u001b[0;34m\u001b[0m\u001b[0m\n\u001b[0;32m--> 611\u001b[0;31m       \u001b[0;32mreturn\u001b[0m \u001b[0mself\u001b[0m\u001b[0;34m.\u001b[0m\u001b[0m_stateless_fn\u001b[0m\u001b[0;34m(\u001b[0m\u001b[0;34m*\u001b[0m\u001b[0margs\u001b[0m\u001b[0;34m,\u001b[0m \u001b[0;34m**\u001b[0m\u001b[0mkwds\u001b[0m\u001b[0;34m)\u001b[0m  \u001b[0;31m# pylint: disable=not-callable\u001b[0m\u001b[0;34m\u001b[0m\u001b[0;34m\u001b[0m\u001b[0m\n\u001b[0m\u001b[1;32m    612\u001b[0m     \u001b[0;32melif\u001b[0m \u001b[0mself\u001b[0m\u001b[0;34m.\u001b[0m\u001b[0m_stateful_fn\u001b[0m \u001b[0;32mis\u001b[0m \u001b[0;32mnot\u001b[0m \u001b[0;32mNone\u001b[0m\u001b[0;34m:\u001b[0m\u001b[0;34m\u001b[0m\u001b[0;34m\u001b[0m\u001b[0m\n\u001b[1;32m    613\u001b[0m       \u001b[0;31m# Release the lock early so that multiple threads can perform the call\u001b[0m\u001b[0;34m\u001b[0m\u001b[0;34m\u001b[0m\u001b[0;34m\u001b[0m\u001b[0m\n",
      "\u001b[0;32m/usr/local/lib/python3.6/dist-packages/tensorflow/python/eager/function.py\u001b[0m in \u001b[0;36m__call__\u001b[0;34m(self, *args, **kwargs)\u001b[0m\n\u001b[1;32m   2418\u001b[0m     \u001b[0;32mwith\u001b[0m \u001b[0mself\u001b[0m\u001b[0;34m.\u001b[0m\u001b[0m_lock\u001b[0m\u001b[0;34m:\u001b[0m\u001b[0;34m\u001b[0m\u001b[0;34m\u001b[0m\u001b[0m\n\u001b[1;32m   2419\u001b[0m       \u001b[0mgraph_function\u001b[0m\u001b[0;34m,\u001b[0m \u001b[0margs\u001b[0m\u001b[0;34m,\u001b[0m \u001b[0mkwargs\u001b[0m \u001b[0;34m=\u001b[0m \u001b[0mself\u001b[0m\u001b[0;34m.\u001b[0m\u001b[0m_maybe_define_function\u001b[0m\u001b[0;34m(\u001b[0m\u001b[0margs\u001b[0m\u001b[0;34m,\u001b[0m \u001b[0mkwargs\u001b[0m\u001b[0;34m)\u001b[0m\u001b[0;34m\u001b[0m\u001b[0;34m\u001b[0m\u001b[0m\n\u001b[0;32m-> 2420\u001b[0;31m     \u001b[0;32mreturn\u001b[0m \u001b[0mgraph_function\u001b[0m\u001b[0;34m.\u001b[0m\u001b[0m_filtered_call\u001b[0m\u001b[0;34m(\u001b[0m\u001b[0margs\u001b[0m\u001b[0;34m,\u001b[0m \u001b[0mkwargs\u001b[0m\u001b[0;34m)\u001b[0m  \u001b[0;31m# pylint: disable=protected-access\u001b[0m\u001b[0;34m\u001b[0m\u001b[0;34m\u001b[0m\u001b[0m\n\u001b[0m\u001b[1;32m   2421\u001b[0m \u001b[0;34m\u001b[0m\u001b[0m\n\u001b[1;32m   2422\u001b[0m   \u001b[0;34m@\u001b[0m\u001b[0mproperty\u001b[0m\u001b[0;34m\u001b[0m\u001b[0;34m\u001b[0m\u001b[0m\n",
      "\u001b[0;32m/usr/local/lib/python3.6/dist-packages/tensorflow/python/eager/function.py\u001b[0m in \u001b[0;36m_filtered_call\u001b[0;34m(self, args, kwargs)\u001b[0m\n\u001b[1;32m   1663\u001b[0m          if isinstance(t, (ops.Tensor,\n\u001b[1;32m   1664\u001b[0m                            resource_variable_ops.BaseResourceVariable))),\n\u001b[0;32m-> 1665\u001b[0;31m         self.captured_inputs)\n\u001b[0m\u001b[1;32m   1666\u001b[0m \u001b[0;34m\u001b[0m\u001b[0m\n\u001b[1;32m   1667\u001b[0m   \u001b[0;32mdef\u001b[0m \u001b[0m_call_flat\u001b[0m\u001b[0;34m(\u001b[0m\u001b[0mself\u001b[0m\u001b[0;34m,\u001b[0m \u001b[0margs\u001b[0m\u001b[0;34m,\u001b[0m \u001b[0mcaptured_inputs\u001b[0m\u001b[0;34m,\u001b[0m \u001b[0mcancellation_manager\u001b[0m\u001b[0;34m=\u001b[0m\u001b[0;32mNone\u001b[0m\u001b[0;34m)\u001b[0m\u001b[0;34m:\u001b[0m\u001b[0;34m\u001b[0m\u001b[0;34m\u001b[0m\u001b[0m\n",
      "\u001b[0;32m/usr/local/lib/python3.6/dist-packages/tensorflow/python/eager/function.py\u001b[0m in \u001b[0;36m_call_flat\u001b[0;34m(self, args, captured_inputs, cancellation_manager)\u001b[0m\n\u001b[1;32m   1744\u001b[0m       \u001b[0;31m# No tape is watching; skip to running the function.\u001b[0m\u001b[0;34m\u001b[0m\u001b[0;34m\u001b[0m\u001b[0;34m\u001b[0m\u001b[0m\n\u001b[1;32m   1745\u001b[0m       return self._build_call_outputs(self._inference_function.call(\n\u001b[0;32m-> 1746\u001b[0;31m           ctx, args, cancellation_manager=cancellation_manager))\n\u001b[0m\u001b[1;32m   1747\u001b[0m     forward_backward = self._select_forward_and_backward_functions(\n\u001b[1;32m   1748\u001b[0m         \u001b[0margs\u001b[0m\u001b[0;34m,\u001b[0m\u001b[0;34m\u001b[0m\u001b[0;34m\u001b[0m\u001b[0m\n",
      "\u001b[0;32m/usr/local/lib/python3.6/dist-packages/tensorflow/python/eager/function.py\u001b[0m in \u001b[0;36mcall\u001b[0;34m(self, ctx, args, cancellation_manager)\u001b[0m\n\u001b[1;32m    596\u001b[0m               \u001b[0minputs\u001b[0m\u001b[0;34m=\u001b[0m\u001b[0margs\u001b[0m\u001b[0;34m,\u001b[0m\u001b[0;34m\u001b[0m\u001b[0;34m\u001b[0m\u001b[0m\n\u001b[1;32m    597\u001b[0m               \u001b[0mattrs\u001b[0m\u001b[0;34m=\u001b[0m\u001b[0mattrs\u001b[0m\u001b[0;34m,\u001b[0m\u001b[0;34m\u001b[0m\u001b[0;34m\u001b[0m\u001b[0m\n\u001b[0;32m--> 598\u001b[0;31m               ctx=ctx)\n\u001b[0m\u001b[1;32m    599\u001b[0m         \u001b[0;32melse\u001b[0m\u001b[0;34m:\u001b[0m\u001b[0;34m\u001b[0m\u001b[0;34m\u001b[0m\u001b[0m\n\u001b[1;32m    600\u001b[0m           outputs = execute.execute_with_cancellation(\n",
      "\u001b[0;32m/usr/local/lib/python3.6/dist-packages/tensorflow/python/eager/execute.py\u001b[0m in \u001b[0;36mquick_execute\u001b[0;34m(op_name, num_outputs, inputs, attrs, ctx, name)\u001b[0m\n\u001b[1;32m     58\u001b[0m     \u001b[0mctx\u001b[0m\u001b[0;34m.\u001b[0m\u001b[0mensure_initialized\u001b[0m\u001b[0;34m(\u001b[0m\u001b[0;34m)\u001b[0m\u001b[0;34m\u001b[0m\u001b[0;34m\u001b[0m\u001b[0m\n\u001b[1;32m     59\u001b[0m     tensors = pywrap_tfe.TFE_Py_Execute(ctx._handle, device_name, op_name,\n\u001b[0;32m---> 60\u001b[0;31m                                         inputs, attrs, num_outputs)\n\u001b[0m\u001b[1;32m     61\u001b[0m   \u001b[0;32mexcept\u001b[0m \u001b[0mcore\u001b[0m\u001b[0;34m.\u001b[0m\u001b[0m_NotOkStatusException\u001b[0m \u001b[0;32mas\u001b[0m \u001b[0me\u001b[0m\u001b[0;34m:\u001b[0m\u001b[0;34m\u001b[0m\u001b[0;34m\u001b[0m\u001b[0m\n\u001b[1;32m     62\u001b[0m     \u001b[0;32mif\u001b[0m \u001b[0mname\u001b[0m \u001b[0;32mis\u001b[0m \u001b[0;32mnot\u001b[0m \u001b[0;32mNone\u001b[0m\u001b[0;34m:\u001b[0m\u001b[0;34m\u001b[0m\u001b[0;34m\u001b[0m\u001b[0m\n",
      "\u001b[0;31mKeyboardInterrupt\u001b[0m: "
     ]
    }
   ],
   "source": [
    "history = model.fit(train_flow, epochs=50,verbose=2, shuffle=False)"
   ]
  },
  {
   "cell_type": "code",
   "execution_count": 0,
   "metadata": {
    "colab": {},
    "colab_type": "code",
    "id": "MxBq_gp0Nx9U"
   },
   "outputs": [],
   "source": [
    "import stellargraph as sg"
   ]
  },
  {
   "cell_type": "code",
   "execution_count": 0,
   "metadata": {
    "colab": {
     "base_uri": "https://localhost:8080/",
     "height": 585
    },
    "colab_type": "code",
    "id": "7mTiSMhpNu_Y",
    "outputId": "d2ecfd51-0990-4a67-c03f-3d6ee4353605"
   },
   "outputs": [
    {
     "data": {
      "image/png": "[encoded data removed]",
      "text/plain": [
       "<Figure size 504x576 with 2 Axes>"
      ]
     },
     "metadata": {
      "needs_background": "light",
      "tags": []
     },
     "output_type": "display_data"
    }
   ],
   "source": [
    "sg.utils.plot_history(history)"
   ]
  },
  {
   "cell_type": "code",
   "execution_count": 0,
   "metadata": {
    "colab": {
     "base_uri": "https://localhost:8080/",
     "height": 101
    },
    "colab_type": "code",
    "id": "J0JmGylTN-Hv",
    "outputId": "bff275f4-392f-4fb1-9eaa-5581dfca0448"
   },
   "outputs": [
    {
     "name": "stdout",
     "output_type": "stream",
     "text": [
      "1/1 [==============================] - 0s 1ms/step - loss: 7.6246 - binary_accuracy: 0.5000\n",
      "\n",
      "Train Set Metrics of the trained model:\n",
      "\tloss: 7.6246\n",
      "\tbinary_accuracy: 0.5000\n"
     ]
    }
   ],
   "source": [
    "train_metrics = model.evaluate(train_flow)\n",
    "\n",
    "print(\"\\nTrain Set Metrics of the trained model:\")\n",
    "for name, val in zip(model.metrics_names, train_metrics):\n",
    "    print(\"\\t{}: {:0.4f}\".format(name, val))"
   ]
  },
  {
   "cell_type": "code",
   "execution_count": 0,
   "metadata": {
    "colab": {},
    "colab_type": "code",
    "id": "dd7wdJinUavd"
   },
   "outputs": [],
   "source": []
  },
  {
   "cell_type": "markdown",
   "metadata": {
    "colab_type": "text",
    "id": "kzeowmXFUbKA"
   },
   "source": [
    "# Attr2Vec"
   ]
  },
  {
   "cell_type": "code",
   "execution_count": 0,
   "metadata": {
    "colab": {},
    "colab_type": "code",
    "id": "8YCyHFQ6U_tm"
   },
   "outputs": [],
   "source": [
    "import stellargraph as sg\n",
    "from stellargraph.data import UnsupervisedSampler\n",
    "from stellargraph.mapper import Attri2VecLinkGenerator, Attri2VecNodeGenerator\n",
    "from stellargraph.layer import Attri2Vec, link_classification\n",
    "\n",
    "from tensorflow import keras\n",
    "\n",
    "from sklearn.linear_model import LogisticRegression\n",
    "from sklearn.metrics import roc_auc_score"
   ]
  },
  {
   "cell_type": "code",
   "execution_count": 0,
   "metadata": {
    "colab": {},
    "colab_type": "code",
    "id": "qBYicd9iUXw-"
   },
   "outputs": [],
   "source": [
    "nodes = list(G_train.nodes())\n",
    "number_of_walks = 2\n",
    "length = 5"
   ]
  },
  {
   "cell_type": "code",
   "execution_count": 0,
   "metadata": {
    "colab": {},
    "colab_type": "code",
    "id": "9g34vLSKOC6o"
   },
   "outputs": [],
   "source": [
    "unsupervised_samples = UnsupervisedSampler(\n",
    "    G_train, nodes=nodes, length=length, number_of_walks=number_of_walks\n",
    ")"
   ]
  },
  {
   "cell_type": "code",
   "execution_count": 0,
   "metadata": {
    "colab": {},
    "colab_type": "code",
    "id": "ccePrBK6Ugip"
   },
   "outputs": [],
   "source": [
    "batch_size = 50\n",
    "epochs = 6"
   ]
  },
  {
   "cell_type": "code",
   "execution_count": 0,
   "metadata": {
    "colab": {},
    "colab_type": "code",
    "id": "VldxAp9WUi76"
   },
   "outputs": [],
   "source": [
    "generator = Attri2VecLinkGenerator(G_train, batch_size)"
   ]
  },
  {
   "cell_type": "code",
   "execution_count": 0,
   "metadata": {
    "colab": {},
    "colab_type": "code",
    "id": "ty31G89FUkyl"
   },
   "outputs": [],
   "source": [
    "layer_sizes = [128]\n",
    "attri2vec = Attri2Vec(\n",
    "    layer_sizes=layer_sizes, generator=generator, bias=False, normalize=None\n",
    ")"
   ]
  },
  {
   "cell_type": "code",
   "execution_count": 0,
   "metadata": {
    "colab": {},
    "colab_type": "code",
    "id": "O9MnIH_OUm3R"
   },
   "outputs": [],
   "source": [
    "x_inp, x_out = attri2vec.in_out_tensors()"
   ]
  },
  {
   "cell_type": "code",
   "execution_count": 0,
   "metadata": {
    "colab": {
     "base_uri": "https://localhost:8080/",
     "height": 34
    },
    "colab_type": "code",
    "id": "CNHTw2SsUovL",
    "outputId": "734132f4-a0e8-477c-e18f-094f96c3f1fc"
   },
   "outputs": [
    {
     "name": "stdout",
     "output_type": "stream",
     "text": [
      "link_classification: using 'ip' method to combine node embeddings into edge embeddings\n"
     ]
    }
   ],
   "source": [
    "prediction = link_classification(\n",
    "    output_dim=1, output_act=\"sigmoid\", edge_embedding_method=\"ip\"\n",
    ")(x_out)"
   ]
  },
  {
   "cell_type": "code",
   "execution_count": 0,
   "metadata": {
    "colab": {},
    "colab_type": "code",
    "id": "5Kx0dXtHUs7O"
   },
   "outputs": [],
   "source": [
    "model = keras.Model(inputs=x_inp, outputs=prediction)\n",
    "\n",
    "model.compile(\n",
    "    optimizer=keras.optimizers.Adam(lr=1e-2),\n",
    "    loss=keras.losses.binary_crossentropy,\n",
    "    metrics=keras.metrics.binary_accuracy\n",
    ")"
   ]
  },
  {
   "cell_type": "code",
   "execution_count": 0,
   "metadata": {
    "colab": {},
    "colab_type": "code",
    "id": "yxN56wYeZkND"
   },
   "outputs": [],
   "source": [
    "dat = generator.flow(unsupervised_samples)"
   ]
  },
  {
   "cell_type": "code",
   "execution_count": 0,
   "metadata": {
    "colab": {
     "base_uri": "https://localhost:8080/",
     "height": 34
    },
    "colab_type": "code",
    "id": "CFj6vdiRUvNJ",
    "outputId": "f511c999-f207-41f2-c088-8e1984f16b7b"
   },
   "outputs": [
    {
     "name": "stdout",
     "output_type": "stream",
     "text": [
      "Epoch 1/6\n"
     ]
    }
   ],
   "source": [
    "history = model.fit(dat,\n",
    "    epochs=epochs,\n",
    "    verbose=2,\n",
    "    shuffle=True)"
   ]
  },
  {
   "cell_type": "markdown",
   "metadata": {
    "colab_type": "text",
    "id": "KtcjLN-NFO0i"
   },
   "source": [
    "# With neighbours"
   ]
  },
  {
   "cell_type": "markdown",
   "metadata": {
    "colab_type": "text",
    "id": "936P1UqJPWIP"
   },
   "source": [
    "1) 90+% компаний-партнеров для искомой лежат через две транзакций. (Искомая - партнеры - партнеры партнеров - их партнеры)\n",
    "Можно пытаться сократить таким образом датасет до размеров от 900т до 400т строк для компании.\n",
    "2) Можно сгенерить 3 фичи из нашего файла edges для каждой отдельной компании:\n",
    "сумма value, сумма n_transactions, а также число партнерств (count)Методом фильтраций (без ml) я надеялся взять больше чем pipeline, но уперся в 1400, и расстроился когда узнал что пайплайн может взять и 2т)"
   ]
  },
  {
   "cell_type": "code",
   "execution_count": 10,
   "metadata": {
    "colab": {},
    "colab_type": "code",
    "id": "Jz9ae0b1GKIQ"
   },
   "outputs": [],
   "source": [
    "from tqdm.notebook import tqdm\n"
   ]
  },
  {
   "cell_type": "code",
   "execution_count": 11,
   "metadata": {
    "colab": {},
    "colab_type": "code",
    "id": "BkhM8ipEFNDH"
   },
   "outputs": [],
   "source": [
    "from sklearn.preprocessing import StandardScaler"
   ]
  },
  {
   "cell_type": "code",
   "execution_count": 0,
   "metadata": {
    "colab": {},
    "colab_type": "code",
    "id": "vQtxwo1fFXZB"
   },
   "outputs": [],
   "source": [
    "ss = StandardScaler()\n",
    "vertices['company_type'] = ss.fit_transform(vertices['company_type'].values.reshape(-1, 1))\n",
    "vertices['main_okved'] = ss.fit_transform(vertices['main_okved'].values.reshape(-1, 1))\n",
    "vertices['region_code'] = ss.fit_transform(vertices['region_code'].values.reshape(-1, 1))"
   ]
  },
  {
   "cell_type": "code",
   "execution_count": 12,
   "metadata": {
    "colab": {
     "base_uri": "https://localhost:8080/",
     "height": 225
    },
    "colab_type": "code",
    "id": "zafhIGyYFY2I",
    "outputId": "1713796e-fa2d-4dc1-9440-18eb95bec9c1"
   },
   "outputs": [
    {
     "data": {
      "text/html": [
       "<div>\n",
       "<style scoped>\n",
       "    .dataframe tbody tr th:only-of-type {\n",
       "        vertical-align: middle;\n",
       "    }\n",
       "\n",
       "    .dataframe tbody tr th {\n",
       "        vertical-align: top;\n",
       "    }\n",
       "\n",
       "    .dataframe thead th {\n",
       "        text-align: right;\n",
       "    }\n",
       "</style>\n",
       "<table border=\"1\" class=\"dataframe\">\n",
       "  <thead>\n",
       "    <tr style=\"text-align: right;\">\n",
       "      <th></th>\n",
       "      <th>id</th>\n",
       "      <th>main_okved</th>\n",
       "      <th>region_code</th>\n",
       "      <th>company_type</th>\n",
       "      <th>degree</th>\n",
       "      <th>1_nearest_neigbour</th>\n",
       "      <th>2_nearest_neigbour</th>\n",
       "      <th>3_nearest_neigbour</th>\n",
       "      <th>4_nearest_neigbour</th>\n",
       "    </tr>\n",
       "  </thead>\n",
       "  <tbody>\n",
       "    <tr>\n",
       "      <th>0</th>\n",
       "      <td>1</td>\n",
       "      <td>66</td>\n",
       "      <td>0.996493</td>\n",
       "      <td>3</td>\n",
       "      <td>-0.076670</td>\n",
       "      <td>1192393</td>\n",
       "      <td>289307</td>\n",
       "      <td>1124981</td>\n",
       "      <td>812393</td>\n",
       "    </tr>\n",
       "    <tr>\n",
       "      <th>1</th>\n",
       "      <td>2</td>\n",
       "      <td>162</td>\n",
       "      <td>1.041164</td>\n",
       "      <td>3</td>\n",
       "      <td>-0.076670</td>\n",
       "      <td>803412</td>\n",
       "      <td>1078506</td>\n",
       "      <td>1104251</td>\n",
       "      <td>761842</td>\n",
       "    </tr>\n",
       "    <tr>\n",
       "      <th>2</th>\n",
       "      <td>3</td>\n",
       "      <td>369</td>\n",
       "      <td>-0.209639</td>\n",
       "      <td>3</td>\n",
       "      <td>-0.094982</td>\n",
       "      <td>844033</td>\n",
       "      <td>785339</td>\n",
       "      <td>798433</td>\n",
       "      <td>371028</td>\n",
       "    </tr>\n",
       "    <tr>\n",
       "      <th>3</th>\n",
       "      <td>4</td>\n",
       "      <td>128</td>\n",
       "      <td>1.353865</td>\n",
       "      <td>3</td>\n",
       "      <td>-0.040046</td>\n",
       "      <td>38264</td>\n",
       "      <td>3</td>\n",
       "      <td>634467</td>\n",
       "      <td>522982</td>\n",
       "    </tr>\n",
       "    <tr>\n",
       "      <th>4</th>\n",
       "      <td>5</td>\n",
       "      <td>746</td>\n",
       "      <td>-0.209639</td>\n",
       "      <td>3</td>\n",
       "      <td>-0.040046</td>\n",
       "      <td>854068</td>\n",
       "      <td>829228</td>\n",
       "      <td>1095112</td>\n",
       "      <td>276593</td>\n",
       "    </tr>\n",
       "  </tbody>\n",
       "</table>\n",
       "</div>"
      ],
      "text/plain": [
       "   id  main_okved  region_code  company_type    degree  1_nearest_neigbour  \\\n",
       "0   1          66     0.996493             3 -0.076670             1192393   \n",
       "1   2         162     1.041164             3 -0.076670              803412   \n",
       "2   3         369    -0.209639             3 -0.094982              844033   \n",
       "3   4         128     1.353865             3 -0.040046               38264   \n",
       "4   5         746    -0.209639             3 -0.040046              854068   \n",
       "\n",
       "   2_nearest_neigbour  3_nearest_neigbour  4_nearest_neigbour  \n",
       "0              289307             1124981              812393  \n",
       "1             1078506             1104251              761842  \n",
       "2              785339              798433              371028  \n",
       "3                   3              634467              522982  \n",
       "4              829228             1095112              276593  "
      ]
     },
     "execution_count": 12,
     "metadata": {},
     "output_type": "execute_result"
    }
   ],
   "source": [
    "vertices.head()"
   ]
  },
  {
   "cell_type": "code",
   "execution_count": 18,
   "metadata": {
    "colab": {
     "base_uri": "https://localhost:8080/",
     "height": 66,
     "referenced_widgets": [
      "f52ea872ce23416facf3e2b982e292e4",
      "aa9a4ff0e9b14546b8af9fa5bf2a07bd",
      "279456536a87455c9adb27b7a08ba48c",
      "6d152a585c734b45b479aa6e4bc32d69",
      "f9cb2863fe9e43ef8553767b03609dbb",
      "fdc1e1f05816439db59e0727ad3f2d2d",
      "78c952b3bf4c4c01b9ad33760cb8e58c",
      "ff998e835f19458bbc7986092ba8fe03"
     ]
    },
    "colab_type": "code",
    "id": "iUYc2MJPF5XO",
    "outputId": "5b9205e7-efc5-4714-f466-15ce3269b066"
   },
   "outputs": [
    {
     "data": {
      "application/vnd.jupyter.widget-view+json": {
       "model_id": "f52ea872ce23416facf3e2b982e292e4",
       "version_major": 2,
       "version_minor": 0
      },
      "text/plain": [
       "HBox(children=(FloatProgress(value=0.0, max=1534749.0), HTML(value='')))"
      ]
     },
     "metadata": {
      "tags": []
     },
     "output_type": "display_data"
    },
    {
     "name": "stdout",
     "output_type": "stream",
     "text": [
      "\n"
     ]
    }
   ],
   "source": [
    "errors = []\n",
    "degrees = []\n",
    "for j in tqdm(vertices.index):\n",
    "    try:\n",
    "        degrees.append([j,g.nodes[j]['degree']])\n",
    "    except:\n",
    "    #print('Error',i)\n",
    "        errors.append(j)\n",
    "degree = pd.DataFrame(degrees, columns=['id','degree'])\n",
    "degree.set_index('id', inplace=True)\n",
    "vertices = vertices.merge(degree, how='inner', on='id')"
   ]
  },
  {
   "cell_type": "code",
   "execution_count": 6,
   "metadata": {
    "colab": {
     "base_uri": "https://localhost:8080/",
     "height": 225
    },
    "colab_type": "code",
    "id": "EPkNc8yEGaxU",
    "outputId": "b7fbc73b-15f0-4cca-be88-dc824444ed5f"
   },
   "outputs": [
    {
     "data": {
      "text/html": [
       "<div>\n",
       "<style scoped>\n",
       "    .dataframe tbody tr th:only-of-type {\n",
       "        vertical-align: middle;\n",
       "    }\n",
       "\n",
       "    .dataframe tbody tr th {\n",
       "        vertical-align: top;\n",
       "    }\n",
       "\n",
       "    .dataframe thead th {\n",
       "        text-align: right;\n",
       "    }\n",
       "</style>\n",
       "<table border=\"1\" class=\"dataframe\">\n",
       "  <thead>\n",
       "    <tr style=\"text-align: right;\">\n",
       "      <th></th>\n",
       "      <th>id</th>\n",
       "      <th>main_okved</th>\n",
       "      <th>region_code</th>\n",
       "      <th>company_type</th>\n",
       "      <th>degree</th>\n",
       "      <th>1_nearest_neigbour</th>\n",
       "      <th>2_nearest_neigbour</th>\n",
       "      <th>3_nearest_neigbour</th>\n",
       "      <th>4_nearest_neigbour</th>\n",
       "    </tr>\n",
       "  </thead>\n",
       "  <tbody>\n",
       "    <tr>\n",
       "      <th>0</th>\n",
       "      <td>1</td>\n",
       "      <td>66</td>\n",
       "      <td>0.996493</td>\n",
       "      <td>3</td>\n",
       "      <td>-0.076670</td>\n",
       "      <td>1192393</td>\n",
       "      <td>289307</td>\n",
       "      <td>1124981</td>\n",
       "      <td>812393</td>\n",
       "    </tr>\n",
       "    <tr>\n",
       "      <th>1</th>\n",
       "      <td>2</td>\n",
       "      <td>162</td>\n",
       "      <td>1.041164</td>\n",
       "      <td>3</td>\n",
       "      <td>-0.076670</td>\n",
       "      <td>803412</td>\n",
       "      <td>1078506</td>\n",
       "      <td>1104251</td>\n",
       "      <td>761842</td>\n",
       "    </tr>\n",
       "    <tr>\n",
       "      <th>2</th>\n",
       "      <td>3</td>\n",
       "      <td>369</td>\n",
       "      <td>-0.209639</td>\n",
       "      <td>3</td>\n",
       "      <td>-0.094982</td>\n",
       "      <td>844033</td>\n",
       "      <td>785339</td>\n",
       "      <td>798433</td>\n",
       "      <td>371028</td>\n",
       "    </tr>\n",
       "    <tr>\n",
       "      <th>3</th>\n",
       "      <td>4</td>\n",
       "      <td>128</td>\n",
       "      <td>1.353865</td>\n",
       "      <td>3</td>\n",
       "      <td>-0.040046</td>\n",
       "      <td>38264</td>\n",
       "      <td>3</td>\n",
       "      <td>634467</td>\n",
       "      <td>522982</td>\n",
       "    </tr>\n",
       "    <tr>\n",
       "      <th>4</th>\n",
       "      <td>5</td>\n",
       "      <td>746</td>\n",
       "      <td>-0.209639</td>\n",
       "      <td>3</td>\n",
       "      <td>-0.040046</td>\n",
       "      <td>854068</td>\n",
       "      <td>829228</td>\n",
       "      <td>1095112</td>\n",
       "      <td>276593</td>\n",
       "    </tr>\n",
       "  </tbody>\n",
       "</table>\n",
       "</div>"
      ],
      "text/plain": [
       "   id  main_okved  region_code  company_type    degree  1_nearest_neigbour  \\\n",
       "0   1          66     0.996493             3 -0.076670             1192393   \n",
       "1   2         162     1.041164             3 -0.076670              803412   \n",
       "2   3         369    -0.209639             3 -0.094982              844033   \n",
       "3   4         128     1.353865             3 -0.040046               38264   \n",
       "4   5         746    -0.209639             3 -0.040046              854068   \n",
       "\n",
       "   2_nearest_neigbour  3_nearest_neigbour  4_nearest_neigbour  \n",
       "0              289307             1124981              812393  \n",
       "1             1078506             1104251              761842  \n",
       "2              785339              798433              371028  \n",
       "3                   3              634467              522982  \n",
       "4              829228             1095112              276593  "
      ]
     },
     "execution_count": 6,
     "metadata": {},
     "output_type": "execute_result"
    }
   ],
   "source": [
    "vertices.head()"
   ]
  },
  {
   "cell_type": "code",
   "execution_count": 0,
   "metadata": {
    "colab": {},
    "colab_type": "code",
    "id": "PU9Q1d6BGfMl"
   },
   "outputs": [],
   "source": [
    "vertices['degree'] = ss.fit_transform(vertices['degree'].values.reshape(-1, 1))"
   ]
  },
  {
   "cell_type": "code",
   "execution_count": 21,
   "metadata": {
    "colab": {
     "base_uri": "https://localhost:8080/",
     "height": 34
    },
    "colab_type": "code",
    "id": "-m3-Eun-Gc61",
    "outputId": "610bae77-497a-4c0b-8a01-73a57d232c42"
   },
   "outputs": [
    {
     "data": {
      "text/plain": [
       "1534749"
      ]
     },
     "execution_count": 21,
     "metadata": {
      "tags": []
     },
     "output_type": "execute_result"
    }
   ],
   "source": [
    "len(vertices)"
   ]
  },
  {
   "cell_type": "code",
   "execution_count": 0,
   "metadata": {
    "colab": {},
    "colab_type": "code",
    "id": "3biAiaeNGuSl"
   },
   "outputs": [],
   "source": [
    "import numpy as np"
   ]
  },
  {
   "cell_type": "code",
   "execution_count": 23,
   "metadata": {
    "colab": {
     "base_uri": "https://localhost:8080/",
     "height": 50
    },
    "colab_type": "code",
    "id": "2-jxNW0HGnWs",
    "outputId": "ad7d3c1c-031e-4216-838a-e39312babd57"
   },
   "outputs": [
    {
     "name": "stdout",
     "output_type": "stream",
     "text": [
      "CPU times: user 5min 48s, sys: 598 ms, total: 5min 49s\n",
      "Wall time: 5min 48s\n"
     ]
    }
   ],
   "source": [
    "%time nbrs=NearestNeighbors(n_neighbors=4, algorithm='kd_tree', n_jobs=-1).fit(np.array(vertices.values))"
   ]
  },
  {
   "cell_type": "code",
   "execution_count": 0,
   "metadata": {
    "colab": {},
    "colab_type": "code",
    "id": "pZ6YDjJtIJX4"
   },
   "outputs": [],
   "source": [
    "distances, indices = nbrs.kneighbors(np.array(vertices.values))"
   ]
  },
  {
   "cell_type": "code",
   "execution_count": 0,
   "metadata": {
    "colab": {},
    "colab_type": "code",
    "id": "Xxkvwew8ILit"
   },
   "outputs": [],
   "source": [
    "vertices['1_nearest_neigbour'] = [indices[r][0] for r in range(len(vertices.index))]\n",
    "vertices['2_nearest_neigbour'] = [indices[r][1] for r in range(len(vertices.index))]\n",
    "vertices['3_nearest_neigbour'] = [indices[r][2] for r in range(len(vertices.index))]\n",
    "vertices['4_nearest_neigbour'] = [indices[r][3] for r in range(len(vertices.index))]"
   ]
  },
  {
   "cell_type": "code",
   "execution_count": 7,
   "metadata": {
    "colab": {
     "base_uri": "https://localhost:8080/",
     "height": 225
    },
    "colab_type": "code",
    "id": "hpdDSBi-Iugu",
    "outputId": "07784d75-2684-4bfd-ceb6-27d9d2be958f"
   },
   "outputs": [
    {
     "data": {
      "text/html": [
       "<div>\n",
       "<style scoped>\n",
       "    .dataframe tbody tr th:only-of-type {\n",
       "        vertical-align: middle;\n",
       "    }\n",
       "\n",
       "    .dataframe tbody tr th {\n",
       "        vertical-align: top;\n",
       "    }\n",
       "\n",
       "    .dataframe thead th {\n",
       "        text-align: right;\n",
       "    }\n",
       "</style>\n",
       "<table border=\"1\" class=\"dataframe\">\n",
       "  <thead>\n",
       "    <tr style=\"text-align: right;\">\n",
       "      <th></th>\n",
       "      <th>id</th>\n",
       "      <th>main_okved</th>\n",
       "      <th>region_code</th>\n",
       "      <th>company_type</th>\n",
       "      <th>degree</th>\n",
       "      <th>1_nearest_neigbour</th>\n",
       "      <th>2_nearest_neigbour</th>\n",
       "      <th>3_nearest_neigbour</th>\n",
       "      <th>4_nearest_neigbour</th>\n",
       "    </tr>\n",
       "  </thead>\n",
       "  <tbody>\n",
       "    <tr>\n",
       "      <th>0</th>\n",
       "      <td>1</td>\n",
       "      <td>66</td>\n",
       "      <td>0.996493</td>\n",
       "      <td>3</td>\n",
       "      <td>-0.076670</td>\n",
       "      <td>1192393</td>\n",
       "      <td>289307</td>\n",
       "      <td>1124981</td>\n",
       "      <td>812393</td>\n",
       "    </tr>\n",
       "    <tr>\n",
       "      <th>1</th>\n",
       "      <td>2</td>\n",
       "      <td>162</td>\n",
       "      <td>1.041164</td>\n",
       "      <td>3</td>\n",
       "      <td>-0.076670</td>\n",
       "      <td>803412</td>\n",
       "      <td>1078506</td>\n",
       "      <td>1104251</td>\n",
       "      <td>761842</td>\n",
       "    </tr>\n",
       "    <tr>\n",
       "      <th>2</th>\n",
       "      <td>3</td>\n",
       "      <td>369</td>\n",
       "      <td>-0.209639</td>\n",
       "      <td>3</td>\n",
       "      <td>-0.094982</td>\n",
       "      <td>844033</td>\n",
       "      <td>785339</td>\n",
       "      <td>798433</td>\n",
       "      <td>371028</td>\n",
       "    </tr>\n",
       "    <tr>\n",
       "      <th>3</th>\n",
       "      <td>4</td>\n",
       "      <td>128</td>\n",
       "      <td>1.353865</td>\n",
       "      <td>3</td>\n",
       "      <td>-0.040046</td>\n",
       "      <td>38264</td>\n",
       "      <td>3</td>\n",
       "      <td>634467</td>\n",
       "      <td>522982</td>\n",
       "    </tr>\n",
       "    <tr>\n",
       "      <th>4</th>\n",
       "      <td>5</td>\n",
       "      <td>746</td>\n",
       "      <td>-0.209639</td>\n",
       "      <td>3</td>\n",
       "      <td>-0.040046</td>\n",
       "      <td>854068</td>\n",
       "      <td>829228</td>\n",
       "      <td>1095112</td>\n",
       "      <td>276593</td>\n",
       "    </tr>\n",
       "  </tbody>\n",
       "</table>\n",
       "</div>"
      ],
      "text/plain": [
       "   id  main_okved  region_code  company_type    degree  1_nearest_neigbour  \\\n",
       "0   1          66     0.996493             3 -0.076670             1192393   \n",
       "1   2         162     1.041164             3 -0.076670              803412   \n",
       "2   3         369    -0.209639             3 -0.094982              844033   \n",
       "3   4         128     1.353865             3 -0.040046               38264   \n",
       "4   5         746    -0.209639             3 -0.040046              854068   \n",
       "\n",
       "   2_nearest_neigbour  3_nearest_neigbour  4_nearest_neigbour  \n",
       "0              289307             1124981              812393  \n",
       "1             1078506             1104251              761842  \n",
       "2              785339              798433              371028  \n",
       "3                   3              634467              522982  \n",
       "4              829228             1095112              276593  "
      ]
     },
     "execution_count": 7,
     "metadata": {},
     "output_type": "execute_result"
    }
   ],
   "source": [
    "vertices.head()"
   ]
  },
  {
   "cell_type": "code",
   "execution_count": 8,
   "metadata": {
    "colab": {},
    "colab_type": "code",
    "id": "mXTfcF9oIw5O"
   },
   "outputs": [
    {
     "ename": "NameError",
     "evalue": "name 'indices' is not defined",
     "output_type": "error",
     "traceback": [
      "\u001b[1;31m---------------------------------------------------------------------------\u001b[0m",
      "\u001b[1;31mNameError\u001b[0m                                 Traceback (most recent call last)",
      "\u001b[1;32m<ipython-input-8-6ec883edf0dc>\u001b[0m in \u001b[0;36m<module>\u001b[1;34m\u001b[0m\n\u001b[1;32m----> 1\u001b[1;33m \u001b[0mvertices\u001b[0m\u001b[1;33m[\u001b[0m\u001b[1;34m'1_nn_1_nn'\u001b[0m\u001b[1;33m]\u001b[0m \u001b[1;33m=\u001b[0m \u001b[1;33m[\u001b[0m\u001b[0mindices\u001b[0m\u001b[1;33m[\u001b[0m\u001b[0mvertices\u001b[0m\u001b[1;33m[\u001b[0m\u001b[1;34m'1_nearest_neigbour'\u001b[0m\u001b[1;33m]\u001b[0m\u001b[1;33m.\u001b[0m\u001b[0miloc\u001b[0m\u001b[1;33m[\u001b[0m\u001b[0mr\u001b[0m\u001b[1;33m]\u001b[0m\u001b[1;33m]\u001b[0m\u001b[1;33m[\u001b[0m\u001b[1;36m0\u001b[0m\u001b[1;33m]\u001b[0m \u001b[1;32mfor\u001b[0m \u001b[0mr\u001b[0m \u001b[1;32min\u001b[0m \u001b[0mrange\u001b[0m\u001b[1;33m(\u001b[0m\u001b[0mlen\u001b[0m\u001b[1;33m(\u001b[0m\u001b[0mvertices\u001b[0m\u001b[1;33m.\u001b[0m\u001b[0mindex\u001b[0m\u001b[1;33m)\u001b[0m\u001b[1;33m)\u001b[0m\u001b[1;33m]\u001b[0m\u001b[1;33m\u001b[0m\u001b[1;33m\u001b[0m\u001b[0m\n\u001b[0m\u001b[0;32m      2\u001b[0m \u001b[0mvertices\u001b[0m\u001b[1;33m[\u001b[0m\u001b[1;34m'1_nn_2_nn'\u001b[0m\u001b[1;33m]\u001b[0m \u001b[1;33m=\u001b[0m \u001b[1;33m[\u001b[0m\u001b[0mindices\u001b[0m\u001b[1;33m[\u001b[0m\u001b[0mvertices\u001b[0m\u001b[1;33m[\u001b[0m\u001b[1;34m'1_nearest_neigbour'\u001b[0m\u001b[1;33m]\u001b[0m\u001b[1;33m.\u001b[0m\u001b[0miloc\u001b[0m\u001b[1;33m[\u001b[0m\u001b[0mr\u001b[0m\u001b[1;33m]\u001b[0m\u001b[1;33m]\u001b[0m\u001b[1;33m[\u001b[0m\u001b[1;36m1\u001b[0m\u001b[1;33m]\u001b[0m \u001b[1;32mfor\u001b[0m \u001b[0mr\u001b[0m \u001b[1;32min\u001b[0m \u001b[0mrange\u001b[0m\u001b[1;33m(\u001b[0m\u001b[0mlen\u001b[0m\u001b[1;33m(\u001b[0m\u001b[0mvertices\u001b[0m\u001b[1;33m.\u001b[0m\u001b[0mindex\u001b[0m\u001b[1;33m)\u001b[0m\u001b[1;33m)\u001b[0m\u001b[1;33m]\u001b[0m\u001b[1;33m\u001b[0m\u001b[1;33m\u001b[0m\u001b[0m\n\u001b[0;32m      3\u001b[0m \u001b[0mvertices\u001b[0m\u001b[1;33m[\u001b[0m\u001b[1;34m'1_nn_3_nn'\u001b[0m\u001b[1;33m]\u001b[0m \u001b[1;33m=\u001b[0m \u001b[1;33m[\u001b[0m\u001b[0mindices\u001b[0m\u001b[1;33m[\u001b[0m\u001b[0mvertices\u001b[0m\u001b[1;33m[\u001b[0m\u001b[1;34m'1_nearest_neigbour'\u001b[0m\u001b[1;33m]\u001b[0m\u001b[1;33m.\u001b[0m\u001b[0miloc\u001b[0m\u001b[1;33m[\u001b[0m\u001b[0mr\u001b[0m\u001b[1;33m]\u001b[0m\u001b[1;33m]\u001b[0m\u001b[1;33m[\u001b[0m\u001b[1;36m2\u001b[0m\u001b[1;33m]\u001b[0m \u001b[1;32mfor\u001b[0m \u001b[0mr\u001b[0m \u001b[1;32min\u001b[0m \u001b[0mrange\u001b[0m\u001b[1;33m(\u001b[0m\u001b[0mlen\u001b[0m\u001b[1;33m(\u001b[0m\u001b[0mvertices\u001b[0m\u001b[1;33m.\u001b[0m\u001b[0mindex\u001b[0m\u001b[1;33m)\u001b[0m\u001b[1;33m)\u001b[0m\u001b[1;33m]\u001b[0m\u001b[1;33m\u001b[0m\u001b[1;33m\u001b[0m\u001b[0m\n\u001b[0;32m      4\u001b[0m \u001b[0mvertices\u001b[0m\u001b[1;33m[\u001b[0m\u001b[1;34m'1_nn_4_nn'\u001b[0m\u001b[1;33m]\u001b[0m \u001b[1;33m=\u001b[0m \u001b[1;33m[\u001b[0m\u001b[0mindices\u001b[0m\u001b[1;33m[\u001b[0m\u001b[0mvertices\u001b[0m\u001b[1;33m[\u001b[0m\u001b[1;34m'1_nearest_neigbour'\u001b[0m\u001b[1;33m]\u001b[0m\u001b[1;33m.\u001b[0m\u001b[0miloc\u001b[0m\u001b[1;33m[\u001b[0m\u001b[0mr\u001b[0m\u001b[1;33m]\u001b[0m\u001b[1;33m]\u001b[0m\u001b[1;33m[\u001b[0m\u001b[1;36m3\u001b[0m\u001b[1;33m]\u001b[0m \u001b[1;32mfor\u001b[0m \u001b[0mr\u001b[0m \u001b[1;32min\u001b[0m \u001b[0mrange\u001b[0m\u001b[1;33m(\u001b[0m\u001b[0mlen\u001b[0m\u001b[1;33m(\u001b[0m\u001b[0mvertices\u001b[0m\u001b[1;33m.\u001b[0m\u001b[0mindex\u001b[0m\u001b[1;33m)\u001b[0m\u001b[1;33m)\u001b[0m\u001b[1;33m]\u001b[0m\u001b[1;33m\u001b[0m\u001b[1;33m\u001b[0m\u001b[0m\n",
      "\u001b[1;32m<ipython-input-8-6ec883edf0dc>\u001b[0m in \u001b[0;36m<listcomp>\u001b[1;34m(.0)\u001b[0m\n\u001b[1;32m----> 1\u001b[1;33m \u001b[0mvertices\u001b[0m\u001b[1;33m[\u001b[0m\u001b[1;34m'1_nn_1_nn'\u001b[0m\u001b[1;33m]\u001b[0m \u001b[1;33m=\u001b[0m \u001b[1;33m[\u001b[0m\u001b[0mindices\u001b[0m\u001b[1;33m[\u001b[0m\u001b[0mvertices\u001b[0m\u001b[1;33m[\u001b[0m\u001b[1;34m'1_nearest_neigbour'\u001b[0m\u001b[1;33m]\u001b[0m\u001b[1;33m.\u001b[0m\u001b[0miloc\u001b[0m\u001b[1;33m[\u001b[0m\u001b[0mr\u001b[0m\u001b[1;33m]\u001b[0m\u001b[1;33m]\u001b[0m\u001b[1;33m[\u001b[0m\u001b[1;36m0\u001b[0m\u001b[1;33m]\u001b[0m \u001b[1;32mfor\u001b[0m \u001b[0mr\u001b[0m \u001b[1;32min\u001b[0m \u001b[0mrange\u001b[0m\u001b[1;33m(\u001b[0m\u001b[0mlen\u001b[0m\u001b[1;33m(\u001b[0m\u001b[0mvertices\u001b[0m\u001b[1;33m.\u001b[0m\u001b[0mindex\u001b[0m\u001b[1;33m)\u001b[0m\u001b[1;33m)\u001b[0m\u001b[1;33m]\u001b[0m\u001b[1;33m\u001b[0m\u001b[1;33m\u001b[0m\u001b[0m\n\u001b[0m\u001b[0;32m      2\u001b[0m \u001b[0mvertices\u001b[0m\u001b[1;33m[\u001b[0m\u001b[1;34m'1_nn_2_nn'\u001b[0m\u001b[1;33m]\u001b[0m \u001b[1;33m=\u001b[0m \u001b[1;33m[\u001b[0m\u001b[0mindices\u001b[0m\u001b[1;33m[\u001b[0m\u001b[0mvertices\u001b[0m\u001b[1;33m[\u001b[0m\u001b[1;34m'1_nearest_neigbour'\u001b[0m\u001b[1;33m]\u001b[0m\u001b[1;33m.\u001b[0m\u001b[0miloc\u001b[0m\u001b[1;33m[\u001b[0m\u001b[0mr\u001b[0m\u001b[1;33m]\u001b[0m\u001b[1;33m]\u001b[0m\u001b[1;33m[\u001b[0m\u001b[1;36m1\u001b[0m\u001b[1;33m]\u001b[0m \u001b[1;32mfor\u001b[0m \u001b[0mr\u001b[0m \u001b[1;32min\u001b[0m \u001b[0mrange\u001b[0m\u001b[1;33m(\u001b[0m\u001b[0mlen\u001b[0m\u001b[1;33m(\u001b[0m\u001b[0mvertices\u001b[0m\u001b[1;33m.\u001b[0m\u001b[0mindex\u001b[0m\u001b[1;33m)\u001b[0m\u001b[1;33m)\u001b[0m\u001b[1;33m]\u001b[0m\u001b[1;33m\u001b[0m\u001b[1;33m\u001b[0m\u001b[0m\n\u001b[0;32m      3\u001b[0m \u001b[0mvertices\u001b[0m\u001b[1;33m[\u001b[0m\u001b[1;34m'1_nn_3_nn'\u001b[0m\u001b[1;33m]\u001b[0m \u001b[1;33m=\u001b[0m \u001b[1;33m[\u001b[0m\u001b[0mindices\u001b[0m\u001b[1;33m[\u001b[0m\u001b[0mvertices\u001b[0m\u001b[1;33m[\u001b[0m\u001b[1;34m'1_nearest_neigbour'\u001b[0m\u001b[1;33m]\u001b[0m\u001b[1;33m.\u001b[0m\u001b[0miloc\u001b[0m\u001b[1;33m[\u001b[0m\u001b[0mr\u001b[0m\u001b[1;33m]\u001b[0m\u001b[1;33m]\u001b[0m\u001b[1;33m[\u001b[0m\u001b[1;36m2\u001b[0m\u001b[1;33m]\u001b[0m \u001b[1;32mfor\u001b[0m \u001b[0mr\u001b[0m \u001b[1;32min\u001b[0m \u001b[0mrange\u001b[0m\u001b[1;33m(\u001b[0m\u001b[0mlen\u001b[0m\u001b[1;33m(\u001b[0m\u001b[0mvertices\u001b[0m\u001b[1;33m.\u001b[0m\u001b[0mindex\u001b[0m\u001b[1;33m)\u001b[0m\u001b[1;33m)\u001b[0m\u001b[1;33m]\u001b[0m\u001b[1;33m\u001b[0m\u001b[1;33m\u001b[0m\u001b[0m\n\u001b[0;32m      4\u001b[0m \u001b[0mvertices\u001b[0m\u001b[1;33m[\u001b[0m\u001b[1;34m'1_nn_4_nn'\u001b[0m\u001b[1;33m]\u001b[0m \u001b[1;33m=\u001b[0m \u001b[1;33m[\u001b[0m\u001b[0mindices\u001b[0m\u001b[1;33m[\u001b[0m\u001b[0mvertices\u001b[0m\u001b[1;33m[\u001b[0m\u001b[1;34m'1_nearest_neigbour'\u001b[0m\u001b[1;33m]\u001b[0m\u001b[1;33m.\u001b[0m\u001b[0miloc\u001b[0m\u001b[1;33m[\u001b[0m\u001b[0mr\u001b[0m\u001b[1;33m]\u001b[0m\u001b[1;33m]\u001b[0m\u001b[1;33m[\u001b[0m\u001b[1;36m3\u001b[0m\u001b[1;33m]\u001b[0m \u001b[1;32mfor\u001b[0m \u001b[0mr\u001b[0m \u001b[1;32min\u001b[0m \u001b[0mrange\u001b[0m\u001b[1;33m(\u001b[0m\u001b[0mlen\u001b[0m\u001b[1;33m(\u001b[0m\u001b[0mvertices\u001b[0m\u001b[1;33m.\u001b[0m\u001b[0mindex\u001b[0m\u001b[1;33m)\u001b[0m\u001b[1;33m)\u001b[0m\u001b[1;33m]\u001b[0m\u001b[1;33m\u001b[0m\u001b[1;33m\u001b[0m\u001b[0m\n",
      "\u001b[1;31mNameError\u001b[0m: name 'indices' is not defined"
     ]
    }
   ],
   "source": [
    "vertices['1_nn_1_nn'] = [indices[vertices['1_nearest_neigbour'].iloc[r]][0] for r in range(len(vertices.index))]\n",
    "vertices['1_nn_2_nn'] = [indices[vertices['1_nearest_neigbour'].iloc[r]][1] for r in range(len(vertices.index))]\n",
    "vertices['1_nn_3_nn'] = [indices[vertices['1_nearest_neigbour'].iloc[r]][2] for r in range(len(vertices.index))]\n",
    "vertices['1_nn_4_nn'] = [indices[vertices['1_nearest_neigbour'].iloc[r]][3] for r in range(len(vertices.index))]"
   ]
  },
  {
   "cell_type": "code",
   "execution_count": 53,
   "metadata": {
    "colab": {
     "base_uri": "https://localhost:8080/",
     "height": 245
    },
    "colab_type": "code",
    "id": "vAEiX1p_Oz_J",
    "outputId": "dd3e23c6-4840-4329-e701-e12b81029057"
   },
   "outputs": [
    {
     "data": {
      "text/html": [
       "<div>\n",
       "<style scoped>\n",
       "    .dataframe tbody tr th:only-of-type {\n",
       "        vertical-align: middle;\n",
       "    }\n",
       "\n",
       "    .dataframe tbody tr th {\n",
       "        vertical-align: top;\n",
       "    }\n",
       "\n",
       "    .dataframe thead th {\n",
       "        text-align: right;\n",
       "    }\n",
       "</style>\n",
       "<table border=\"1\" class=\"dataframe\">\n",
       "  <thead>\n",
       "    <tr style=\"text-align: right;\">\n",
       "      <th></th>\n",
       "      <th>main_okved</th>\n",
       "      <th>region_code</th>\n",
       "      <th>company_type</th>\n",
       "      <th>degree</th>\n",
       "      <th>1_nearest_neigbour</th>\n",
       "      <th>2_nearest_neigbour</th>\n",
       "      <th>3_nearest_neigbour</th>\n",
       "      <th>4_nearest_neigbour</th>\n",
       "      <th>1_nn_1_nn</th>\n",
       "      <th>1_nn_2_nn</th>\n",
       "      <th>1_nn_3_nn</th>\n",
       "      <th>1_nn_4_nn</th>\n",
       "    </tr>\n",
       "    <tr>\n",
       "      <th>id</th>\n",
       "      <th></th>\n",
       "      <th></th>\n",
       "      <th></th>\n",
       "      <th></th>\n",
       "      <th></th>\n",
       "      <th></th>\n",
       "      <th></th>\n",
       "      <th></th>\n",
       "      <th></th>\n",
       "      <th></th>\n",
       "      <th></th>\n",
       "      <th></th>\n",
       "    </tr>\n",
       "  </thead>\n",
       "  <tbody>\n",
       "    <tr>\n",
       "      <th>1</th>\n",
       "      <td>-0.299857</td>\n",
       "      <td>0.987268</td>\n",
       "      <td>0.539115</td>\n",
       "      <td>-0.075680</td>\n",
       "      <td>557063</td>\n",
       "      <td>293141</td>\n",
       "      <td>578774</td>\n",
       "      <td>37782</td>\n",
       "      <td>557063</td>\n",
       "      <td>293141</td>\n",
       "      <td>578774</td>\n",
       "      <td>37782</td>\n",
       "    </tr>\n",
       "    <tr>\n",
       "      <th>2</th>\n",
       "      <td>-0.730534</td>\n",
       "      <td>1.031696</td>\n",
       "      <td>0.539115</td>\n",
       "      <td>-0.075680</td>\n",
       "      <td>143702</td>\n",
       "      <td>782284</td>\n",
       "      <td>569780</td>\n",
       "      <td>1122205</td>\n",
       "      <td>143702</td>\n",
       "      <td>782284</td>\n",
       "      <td>569780</td>\n",
       "      <td>1122205</td>\n",
       "    </tr>\n",
       "    <tr>\n",
       "      <th>3</th>\n",
       "      <td>-1.659182</td>\n",
       "      <td>-0.212291</td>\n",
       "      <td>0.539115</td>\n",
       "      <td>-0.094111</td>\n",
       "      <td>148023</td>\n",
       "      <td>867833</td>\n",
       "      <td>776689</td>\n",
       "      <td>808967</td>\n",
       "      <td>148023</td>\n",
       "      <td>867833</td>\n",
       "      <td>776689</td>\n",
       "      <td>808967</td>\n",
       "    </tr>\n",
       "    <tr>\n",
       "      <th>4</th>\n",
       "      <td>-0.578003</td>\n",
       "      <td>1.520405</td>\n",
       "      <td>0.539115</td>\n",
       "      <td>-0.038817</td>\n",
       "      <td>38788</td>\n",
       "      <td>642870</td>\n",
       "      <td>3</td>\n",
       "      <td>529935</td>\n",
       "      <td>38788</td>\n",
       "      <td>642870</td>\n",
       "      <td>3</td>\n",
       "      <td>529935</td>\n",
       "    </tr>\n",
       "    <tr>\n",
       "      <th>5</th>\n",
       "      <td>0.458315</td>\n",
       "      <td>-0.212291</td>\n",
       "      <td>0.539115</td>\n",
       "      <td>-0.038817</td>\n",
       "      <td>1109678</td>\n",
       "      <td>865350</td>\n",
       "      <td>116777</td>\n",
       "      <td>664853</td>\n",
       "      <td>1109678</td>\n",
       "      <td>865350</td>\n",
       "      <td>116777</td>\n",
       "      <td>664853</td>\n",
       "    </tr>\n",
       "  </tbody>\n",
       "</table>\n",
       "</div>"
      ],
      "text/plain": [
       "    main_okved  region_code  company_type  ...  1_nn_2_nn  1_nn_3_nn  1_nn_4_nn\n",
       "id                                         ...                                 \n",
       "1    -0.299857     0.987268      0.539115  ...     293141     578774      37782\n",
       "2    -0.730534     1.031696      0.539115  ...     782284     569780    1122205\n",
       "3    -1.659182    -0.212291      0.539115  ...     867833     776689     808967\n",
       "4    -0.578003     1.520405      0.539115  ...     642870          3     529935\n",
       "5     0.458315    -0.212291      0.539115  ...     865350     116777     664853\n",
       "\n",
       "[5 rows x 12 columns]"
      ]
     },
     "execution_count": 53,
     "metadata": {
      "tags": []
     },
     "output_type": "execute_result"
    }
   ],
   "source": [
    "vertices.head()"
   ]
  },
  {
   "cell_type": "code",
   "execution_count": 0,
   "metadata": {
    "colab": {},
    "colab_type": "code",
    "id": "ZEyZFBhGPofu"
   },
   "outputs": [],
   "source": [
    "vertices['2_nn_1_nn'] = [indices[vertices['2_nearest_neigbour'].iloc[r]][0] for r in vertices.index-1]\n",
    "vertices['2_nn_2_nn'] = [indices[vertices['2_nearest_neigbour'].iloc[r]][1] for r in vertices.index-1]\n",
    "vertices['2_nn_3_nn'] = [indices[vertices['2_nearest_neigbour'].iloc[r]][2] for r in vertices.index-1]\n",
    "vertices['2_nn_4_nn'] = [indices[vertices['2_nearest_neigbour'].iloc[r]][3] for r in vertices.index-1]\n",
    "vertices['3_nn_1_nn'] = [indices[vertices['3_nearest_neigbour'].iloc[r]][0] for r in vertices.index-1]\n",
    "vertices['3_nn_2_nn'] = [indices[vertices['3_nearest_neigbour'].iloc[r]][1] for r in vertices.index-1]\n",
    "vertices['3_nn_3_nn'] = [indices[vertices['3_nearest_neigbour'].iloc[r]][2] for r in vertices.index-1]\n",
    "vertices['3_nn_4_nn'] = [indices[vertices['3_nearest_neigbour'].iloc[r]][3] for r in vertices.index-1]\n",
    "vertices['4_nn_1_nn'] = [indices[vertices['4_nearest_neigbour'].iloc[r]][0] for r in vertices.index-1]\n",
    "vertices['4_nn_2_nn'] = [indices[vertices['4_nearest_neigbour'].iloc[r]][1] for r in vertices.index-1]\n",
    "vertices['4_nn_3_nn'] = [indices[vertices['4_nearest_neigbour'].iloc[r]][2] for r in vertices.index-1]\n",
    "vertices['4_nn_4_nn'] = [indices[vertices['4_nearest_neigbour'].iloc[r]][3] for r in vertices.index-1]"
   ]
  },
  {
   "cell_type": "code",
   "execution_count": 56,
   "metadata": {
    "colab": {
     "base_uri": "https://localhost:8080/",
     "height": 245
    },
    "colab_type": "code",
    "id": "-JgNlkXPQ-_y",
    "outputId": "94aeff6a-e262-40a4-a6c7-8360f8238300"
   },
   "outputs": [
    {
     "data": {
      "text/html": [
       "<div>\n",
       "<style scoped>\n",
       "    .dataframe tbody tr th:only-of-type {\n",
       "        vertical-align: middle;\n",
       "    }\n",
       "\n",
       "    .dataframe tbody tr th {\n",
       "        vertical-align: top;\n",
       "    }\n",
       "\n",
       "    .dataframe thead th {\n",
       "        text-align: right;\n",
       "    }\n",
       "</style>\n",
       "<table border=\"1\" class=\"dataframe\">\n",
       "  <thead>\n",
       "    <tr style=\"text-align: right;\">\n",
       "      <th></th>\n",
       "      <th>main_okved</th>\n",
       "      <th>region_code</th>\n",
       "      <th>company_type</th>\n",
       "      <th>degree</th>\n",
       "      <th>1_nearest_neigbour</th>\n",
       "      <th>2_nearest_neigbour</th>\n",
       "      <th>3_nearest_neigbour</th>\n",
       "      <th>4_nearest_neigbour</th>\n",
       "      <th>1_nn_1_nn</th>\n",
       "      <th>1_nn_2_nn</th>\n",
       "      <th>1_nn_3_nn</th>\n",
       "      <th>1_nn_4_nn</th>\n",
       "      <th>2_nn_1_nn</th>\n",
       "      <th>2_nn_2_nn</th>\n",
       "      <th>2_nn_3_nn</th>\n",
       "      <th>2_nn_4_nn</th>\n",
       "      <th>3_nn_1_nn</th>\n",
       "      <th>3_nn_2_nn</th>\n",
       "      <th>3_nn_3_nn</th>\n",
       "      <th>3_nn_4_nn</th>\n",
       "      <th>4_nn_1_nn</th>\n",
       "      <th>4_nn_2_nn</th>\n",
       "      <th>4_nn_3_nn</th>\n",
       "      <th>4_nn_4_nn</th>\n",
       "    </tr>\n",
       "    <tr>\n",
       "      <th>id</th>\n",
       "      <th></th>\n",
       "      <th></th>\n",
       "      <th></th>\n",
       "      <th></th>\n",
       "      <th></th>\n",
       "      <th></th>\n",
       "      <th></th>\n",
       "      <th></th>\n",
       "      <th></th>\n",
       "      <th></th>\n",
       "      <th></th>\n",
       "      <th></th>\n",
       "      <th></th>\n",
       "      <th></th>\n",
       "      <th></th>\n",
       "      <th></th>\n",
       "      <th></th>\n",
       "      <th></th>\n",
       "      <th></th>\n",
       "      <th></th>\n",
       "      <th></th>\n",
       "      <th></th>\n",
       "      <th></th>\n",
       "      <th></th>\n",
       "    </tr>\n",
       "  </thead>\n",
       "  <tbody>\n",
       "    <tr>\n",
       "      <th>1</th>\n",
       "      <td>-0.299857</td>\n",
       "      <td>0.987268</td>\n",
       "      <td>0.539115</td>\n",
       "      <td>-0.075680</td>\n",
       "      <td>557063</td>\n",
       "      <td>293141</td>\n",
       "      <td>578774</td>\n",
       "      <td>37782</td>\n",
       "      <td>557063</td>\n",
       "      <td>293141</td>\n",
       "      <td>578774</td>\n",
       "      <td>37782</td>\n",
       "      <td>557063</td>\n",
       "      <td>293141</td>\n",
       "      <td>578774</td>\n",
       "      <td>37782</td>\n",
       "      <td>557063</td>\n",
       "      <td>293141</td>\n",
       "      <td>578774</td>\n",
       "      <td>37782</td>\n",
       "      <td>557063</td>\n",
       "      <td>293141</td>\n",
       "      <td>578774</td>\n",
       "      <td>37782</td>\n",
       "    </tr>\n",
       "    <tr>\n",
       "      <th>2</th>\n",
       "      <td>-0.730534</td>\n",
       "      <td>1.031696</td>\n",
       "      <td>0.539115</td>\n",
       "      <td>-0.075680</td>\n",
       "      <td>143702</td>\n",
       "      <td>782284</td>\n",
       "      <td>569780</td>\n",
       "      <td>1122205</td>\n",
       "      <td>143702</td>\n",
       "      <td>782284</td>\n",
       "      <td>569780</td>\n",
       "      <td>1122205</td>\n",
       "      <td>143702</td>\n",
       "      <td>782284</td>\n",
       "      <td>569780</td>\n",
       "      <td>1122205</td>\n",
       "      <td>143702</td>\n",
       "      <td>782284</td>\n",
       "      <td>569780</td>\n",
       "      <td>1122205</td>\n",
       "      <td>143702</td>\n",
       "      <td>782284</td>\n",
       "      <td>569780</td>\n",
       "      <td>1122205</td>\n",
       "    </tr>\n",
       "    <tr>\n",
       "      <th>3</th>\n",
       "      <td>-1.659182</td>\n",
       "      <td>-0.212291</td>\n",
       "      <td>0.539115</td>\n",
       "      <td>-0.094111</td>\n",
       "      <td>148023</td>\n",
       "      <td>867833</td>\n",
       "      <td>776689</td>\n",
       "      <td>808967</td>\n",
       "      <td>148023</td>\n",
       "      <td>867833</td>\n",
       "      <td>776689</td>\n",
       "      <td>808967</td>\n",
       "      <td>148023</td>\n",
       "      <td>867833</td>\n",
       "      <td>776689</td>\n",
       "      <td>808967</td>\n",
       "      <td>148023</td>\n",
       "      <td>867833</td>\n",
       "      <td>776689</td>\n",
       "      <td>808967</td>\n",
       "      <td>148023</td>\n",
       "      <td>867833</td>\n",
       "      <td>776689</td>\n",
       "      <td>808967</td>\n",
       "    </tr>\n",
       "    <tr>\n",
       "      <th>4</th>\n",
       "      <td>-0.578003</td>\n",
       "      <td>1.520405</td>\n",
       "      <td>0.539115</td>\n",
       "      <td>-0.038817</td>\n",
       "      <td>38788</td>\n",
       "      <td>642870</td>\n",
       "      <td>3</td>\n",
       "      <td>529935</td>\n",
       "      <td>38788</td>\n",
       "      <td>642870</td>\n",
       "      <td>3</td>\n",
       "      <td>529935</td>\n",
       "      <td>38788</td>\n",
       "      <td>642870</td>\n",
       "      <td>3</td>\n",
       "      <td>529935</td>\n",
       "      <td>38788</td>\n",
       "      <td>642870</td>\n",
       "      <td>3</td>\n",
       "      <td>529935</td>\n",
       "      <td>529935</td>\n",
       "      <td>1247537</td>\n",
       "      <td>271393</td>\n",
       "      <td>486771</td>\n",
       "    </tr>\n",
       "    <tr>\n",
       "      <th>5</th>\n",
       "      <td>0.458315</td>\n",
       "      <td>-0.212291</td>\n",
       "      <td>0.539115</td>\n",
       "      <td>-0.038817</td>\n",
       "      <td>1109678</td>\n",
       "      <td>865350</td>\n",
       "      <td>116777</td>\n",
       "      <td>664853</td>\n",
       "      <td>1109678</td>\n",
       "      <td>865350</td>\n",
       "      <td>116777</td>\n",
       "      <td>664853</td>\n",
       "      <td>1109678</td>\n",
       "      <td>865350</td>\n",
       "      <td>116777</td>\n",
       "      <td>664853</td>\n",
       "      <td>1109678</td>\n",
       "      <td>865350</td>\n",
       "      <td>116777</td>\n",
       "      <td>664853</td>\n",
       "      <td>1109678</td>\n",
       "      <td>865350</td>\n",
       "      <td>116777</td>\n",
       "      <td>664853</td>\n",
       "    </tr>\n",
       "  </tbody>\n",
       "</table>\n",
       "</div>"
      ],
      "text/plain": [
       "    main_okved  region_code  company_type  ...  4_nn_2_nn  4_nn_3_nn  4_nn_4_nn\n",
       "id                                         ...                                 \n",
       "1    -0.299857     0.987268      0.539115  ...     293141     578774      37782\n",
       "2    -0.730534     1.031696      0.539115  ...     782284     569780    1122205\n",
       "3    -1.659182    -0.212291      0.539115  ...     867833     776689     808967\n",
       "4    -0.578003     1.520405      0.539115  ...    1247537     271393     486771\n",
       "5     0.458315    -0.212291      0.539115  ...     865350     116777     664853\n",
       "\n",
       "[5 rows x 24 columns]"
      ]
     },
     "execution_count": 56,
     "metadata": {
      "tags": []
     },
     "output_type": "execute_result"
    }
   ],
   "source": [
    "vertices.head()"
   ]
  },
  {
   "cell_type": "code",
   "execution_count": 0,
   "metadata": {
    "colab": {},
    "colab_type": "code",
    "id": "OcFSE4OzRDWS"
   },
   "outputs": [],
   "source": [
    "#vertices.to_csv(\"vertices wth neigh.csv\")"
   ]
  }
 ],
 "metadata": {
  "colab": {
   "name": "Solution with ML graph.ipynb",
   "provenance": [],
   "toc_visible": true
  },
  "kernelspec": {
   "display_name": "Python 3",
   "language": "python",
   "name": "python3"
  },
  "language_info": {
   "codemirror_mode": {
    "name": "ipython",
    "version": 3
   },
   "file_extension": ".py",
   "mimetype": "text/x-python",
   "name": "python",
   "nbconvert_exporter": "python",
   "pygments_lexer": "ipython3",
   "version": "3.7.7"
  },
  "widgets": {
   "application/vnd.jupyter.widget-state+json": {
    "279456536a87455c9adb27b7a08ba48c": {
     "model_module": "@jupyter-widgets/controls",
     "model_name": "FloatProgressModel",
     "state": {
      "_dom_classes": [],
      "_model_module": "@jupyter-widgets/controls",
      "_model_module_version": "1.5.0",
      "_model_name": "FloatProgressModel",
      "_view_count": null,
      "_view_module": "@jupyter-widgets/controls",
      "_view_module_version": "1.5.0",
      "_view_name": "ProgressView",
      "bar_style": "success",
      "description": "100%",
      "description_tooltip": null,
      "layout": "IPY_MODEL_fdc1e1f05816439db59e0727ad3f2d2d",
      "max": 1534749,
      "min": 0,
      "orientation": "horizontal",
      "style": "IPY_MODEL_f9cb2863fe9e43ef8553767b03609dbb",
      "value": 1534749
     }
    },
    "6d152a585c734b45b479aa6e4bc32d69": {
     "model_module": "@jupyter-widgets/controls",
     "model_name": "HTMLModel",
     "state": {
      "_dom_classes": [],
      "_model_module": "@jupyter-widgets/controls",
      "_model_module_version": "1.5.0",
      "_model_name": "HTMLModel",
      "_view_count": null,
      "_view_module": "@jupyter-widgets/controls",
      "_view_module_version": "1.5.0",
      "_view_name": "HTMLView",
      "description": "",
      "description_tooltip": null,
      "layout": "IPY_MODEL_ff998e835f19458bbc7986092ba8fe03",
      "placeholder": "​",
      "style": "IPY_MODEL_78c952b3bf4c4c01b9ad33760cb8e58c",
      "value": " 1534749/1534749 [00:09&lt;00:00, 157533.48it/s]"
     }
    },
    "78c952b3bf4c4c01b9ad33760cb8e58c": {
     "model_module": "@jupyter-widgets/controls",
     "model_name": "DescriptionStyleModel",
     "state": {
      "_model_module": "@jupyter-widgets/controls",
      "_model_module_version": "1.5.0",
      "_model_name": "DescriptionStyleModel",
      "_view_count": null,
      "_view_module": "@jupyter-widgets/base",
      "_view_module_version": "1.2.0",
      "_view_name": "StyleView",
      "description_width": ""
     }
    },
    "aa9a4ff0e9b14546b8af9fa5bf2a07bd": {
     "model_module": "@jupyter-widgets/base",
     "model_name": "LayoutModel",
     "state": {
      "_model_module": "@jupyter-widgets/base",
      "_model_module_version": "1.2.0",
      "_model_name": "LayoutModel",
      "_view_count": null,
      "_view_module": "@jupyter-widgets/base",
      "_view_module_version": "1.2.0",
      "_view_name": "LayoutView",
      "align_content": null,
      "align_items": null,
      "align_self": null,
      "border": null,
      "bottom": null,
      "display": null,
      "flex": null,
      "flex_flow": null,
      "grid_area": null,
      "grid_auto_columns": null,
      "grid_auto_flow": null,
      "grid_auto_rows": null,
      "grid_column": null,
      "grid_gap": null,
      "grid_row": null,
      "grid_template_areas": null,
      "grid_template_columns": null,
      "grid_template_rows": null,
      "height": null,
      "justify_content": null,
      "justify_items": null,
      "left": null,
      "margin": null,
      "max_height": null,
      "max_width": null,
      "min_height": null,
      "min_width": null,
      "object_fit": null,
      "object_position": null,
      "order": null,
      "overflow": null,
      "overflow_x": null,
      "overflow_y": null,
      "padding": null,
      "right": null,
      "top": null,
      "visibility": null,
      "width": null
     }
    },
    "f52ea872ce23416facf3e2b982e292e4": {
     "model_module": "@jupyter-widgets/controls",
     "model_name": "HBoxModel",
     "state": {
      "_dom_classes": [],
      "_model_module": "@jupyter-widgets/controls",
      "_model_module_version": "1.5.0",
      "_model_name": "HBoxModel",
      "_view_count": null,
      "_view_module": "@jupyter-widgets/controls",
      "_view_module_version": "1.5.0",
      "_view_name": "HBoxView",
      "box_style": "",
      "children": [
       "IPY_MODEL_279456536a87455c9adb27b7a08ba48c",
       "IPY_MODEL_6d152a585c734b45b479aa6e4bc32d69"
      ],
      "layout": "IPY_MODEL_aa9a4ff0e9b14546b8af9fa5bf2a07bd"
     }
    },
    "f9cb2863fe9e43ef8553767b03609dbb": {
     "model_module": "@jupyter-widgets/controls",
     "model_name": "ProgressStyleModel",
     "state": {
      "_model_module": "@jupyter-widgets/controls",
      "_model_module_version": "1.5.0",
      "_model_name": "ProgressStyleModel",
      "_view_count": null,
      "_view_module": "@jupyter-widgets/base",
      "_view_module_version": "1.2.0",
      "_view_name": "StyleView",
      "bar_color": null,
      "description_width": "initial"
     }
    },
    "fdc1e1f05816439db59e0727ad3f2d2d": {
     "model_module": "@jupyter-widgets/base",
     "model_name": "LayoutModel",
     "state": {
      "_model_module": "@jupyter-widgets/base",
      "_model_module_version": "1.2.0",
      "_model_name": "LayoutModel",
      "_view_count": null,
      "_view_module": "@jupyter-widgets/base",
      "_view_module_version": "1.2.0",
      "_view_name": "LayoutView",
      "align_content": null,
      "align_items": null,
      "align_self": null,
      "border": null,
      "bottom": null,
      "display": null,
      "flex": null,
      "flex_flow": null,
      "grid_area": null,
      "grid_auto_columns": null,
      "grid_auto_flow": null,
      "grid_auto_rows": null,
      "grid_column": null,
      "grid_gap": null,
      "grid_row": null,
      "grid_template_areas": null,
      "grid_template_columns": null,
      "grid_template_rows": null,
      "height": null,
      "justify_content": null,
      "justify_items": null,
      "left": null,
      "margin": null,
      "max_height": null,
      "max_width": null,
      "min_height": null,
      "min_width": null,
      "object_fit": null,
      "object_position": null,
      "order": null,
      "overflow": null,
      "overflow_x": null,
      "overflow_y": null,
      "padding": null,
      "right": null,
      "top": null,
      "visibility": null,
      "width": null
     }
    },
    "ff998e835f19458bbc7986092ba8fe03": {
     "model_module": "@jupyter-widgets/base",
     "model_name": "LayoutModel",
     "state": {
      "_model_module": "@jupyter-widgets/base",
      "_model_module_version": "1.2.0",
      "_model_name": "LayoutModel",
      "_view_count": null,
      "_view_module": "@jupyter-widgets/base",
      "_view_module_version": "1.2.0",
      "_view_name": "LayoutView",
      "align_content": null,
      "align_items": null,
      "align_self": null,
      "border": null,
      "bottom": null,
      "display": null,
      "flex": null,
      "flex_flow": null,
      "grid_area": null,
      "grid_auto_columns": null,
      "grid_auto_flow": null,
      "grid_auto_rows": null,
      "grid_column": null,
      "grid_gap": null,
      "grid_row": null,
      "grid_template_areas": null,
      "grid_template_columns": null,
      "grid_template_rows": null,
      "height": null,
      "justify_content": null,
      "justify_items": null,
      "left": null,
      "margin": null,
      "max_height": null,
      "max_width": null,
      "min_height": null,
      "min_width": null,
      "object_fit": null,
      "object_position": null,
      "order": null,
      "overflow": null,
      "overflow_x": null,
      "overflow_y": null,
      "padding": null,
      "right": null,
      "top": null,
      "visibility": null,
      "width": null
     }
    }
   }
  }
 },
 "nbformat": 4,
 "nbformat_minor": 1
}
